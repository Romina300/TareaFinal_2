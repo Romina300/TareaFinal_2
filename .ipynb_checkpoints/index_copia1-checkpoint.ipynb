{
 "cells": [
  {
   "cell_type": "markdown",
   "id": "a54d7c16",
   "metadata": {},
   "source": [
    "### Exercise 5\n",
    "\n",
    "<div class=\"alert-success\">\n",
    "    \n",
    "1. **Get a polygons map of the lowest administrative unit possible. : distrito**\n",
    "    \n",
    "2. Get a **table of variables for those units**. At least 3 numerical variables. densidad poblacion, indice de contaminacion  indice de probreza, etc**\n",
    "    poblacion y superficie no considerar para las 3 varibles cuanti\n",
    "\n",
    "3. **Preprocess both tables and get them ready for merging.**\n",
    "\n",
    "4. **Do the merging, making the changes needed so that you keep the most columns.**\n",
    "    el ejercicio ess juntar la data con la tabla de datos, no hay ningun calculo\n",
    "    \n",
    "    \n",
    "</div>"
   ]
  },
  {
   "cell_type": "code",
   "execution_count": 64,
   "id": "459ed1e4",
   "metadata": {},
   "outputs": [
    {
     "data": {
      "text/plain": [
       "['country',\n",
       " 'cities',\n",
       " 'rivers',\n",
       " 'states',\n",
       " 'municipalities',\n",
       " 'border',\n",
       " 'airports']"
      ]
     },
     "execution_count": 64,
     "metadata": {},
     "output_type": "execute_result"
    }
   ],
   "source": [
    "from  fiona import listlayers\n",
    "import os\n",
    "\n",
    "argentinaMaps=os.path.join('maps','argentina22171','argentinaMaps22171_all3.gpkg')\n",
    "\n",
    "#layers in maps\n",
    "listlayers(argentinaMaps)"
   ]
  },
  {
   "cell_type": "code",
   "execution_count": 65,
   "id": "8d3cb7e2",
   "metadata": {},
   "outputs": [],
   "source": [
    "# reading in the data:\n",
    "import os\n",
    "import geopandas as gpd\n",
    "\n",
    "country=gpd.read_file(argentinaMaps,layer='country')\n",
    "states=gpd.read_file(argentinaMaps,layer='states')\n",
    "municipalities=gpd.read_file(argentinaMaps,layer='municipalities')\n",
    "airports=gpd.read_file(argentinaMaps,layer='airports')\n",
    "rivers=gpd.read_file(argentinaMaps,layer='rivers')\n",
    "border=gpd.read_file(argentinaMaps,layer='border')"
   ]
  },
  {
   "cell_type": "code",
   "execution_count": 66,
   "id": "e1b41df0",
   "metadata": {},
   "outputs": [
    {
     "name": "stdout",
     "output_type": "stream",
     "text": [
      "<class 'pandas.core.frame.DataFrame'>\n",
      "RangeIndex: 25 entries, 0 to 24\n",
      "Data columns (total 6 columns):\n",
      " #   Column                 Non-Null Count  Dtype \n",
      "---  ------                 --------------  ----- \n",
      " 0   Provincia              25 non-null     object\n",
      " 1   IDH_2019               25 non-null     object\n",
      " 2   muertes_Tuberculosis   25 non-null     int64 \n",
      " 3   Pobreza_personas(%)    24 non-null     object\n",
      " 4   Año                    25 non-null     int64 \n",
      " 5   Pais                   25 non-null     object\n",
      "dtypes: int64(2), object(4)\n",
      "memory usage: 1.3+ KB\n"
     ]
    }
   ],
   "source": [
    "# data table\n",
    "import pandas as pd\n",
    "\n",
    "argData=os.path.join('data','base_dat_3_var.xlsx')\n",
    "datadis=pd.read_excel(argData,\n",
    "                     dtype={'Ubigeo': object})\n",
    "datadis.info()\n",
    "#hasta ahora solo hemos trabajado con su geometria no con su data\n",
    "#tengo q hacer un merge: o sea meter la data dentro del poligono"
   ]
  },
  {
   "cell_type": "code",
   "execution_count": 67,
   "id": "9775c08f",
   "metadata": {},
   "outputs": [
    {
     "data": {
      "text/html": [
       "<div>\n",
       "<style scoped>\n",
       "    .dataframe tbody tr th:only-of-type {\n",
       "        vertical-align: middle;\n",
       "    }\n",
       "\n",
       "    .dataframe tbody tr th {\n",
       "        vertical-align: top;\n",
       "    }\n",
       "\n",
       "    .dataframe thead th {\n",
       "        text-align: right;\n",
       "    }\n",
       "</style>\n",
       "<table border=\"1\" class=\"dataframe\">\n",
       "  <thead>\n",
       "    <tr style=\"text-align: right;\">\n",
       "      <th></th>\n",
       "      <th>ADM0_ES</th>\n",
       "      <th>ADM0_PCODE</th>\n",
       "      <th>ADM1_ES</th>\n",
       "      <th>ADM1_PCODE</th>\n",
       "      <th>geometry</th>\n",
       "    </tr>\n",
       "  </thead>\n",
       "  <tbody>\n",
       "    <tr>\n",
       "      <th>0</th>\n",
       "      <td>Argentina</td>\n",
       "      <td>AR</td>\n",
       "      <td>Buenos Aires</td>\n",
       "      <td>AR006</td>\n",
       "      <td>MULTIPOLYGON Z (((2335919.444 5475450.748 0.00...</td>\n",
       "    </tr>\n",
       "    <tr>\n",
       "      <th>1</th>\n",
       "      <td>Argentina</td>\n",
       "      <td>AR</td>\n",
       "      <td>Catamarca</td>\n",
       "      <td>AR010</td>\n",
       "      <td>POLYGON Z ((1906189.076 7204695.456 0.000, 191...</td>\n",
       "    </tr>\n",
       "    <tr>\n",
       "      <th>2</th>\n",
       "      <td>Argentina</td>\n",
       "      <td>AR</td>\n",
       "      <td>Chaco</td>\n",
       "      <td>AR022</td>\n",
       "      <td>POLYGON Z ((2494292.791 7296258.081 0.000, 249...</td>\n",
       "    </tr>\n",
       "    <tr>\n",
       "      <th>3</th>\n",
       "      <td>Argentina</td>\n",
       "      <td>AR</td>\n",
       "      <td>Chubut</td>\n",
       "      <td>AR026</td>\n",
       "      <td>MULTIPOLYGON Z (((1916196.919 4975824.860 0.00...</td>\n",
       "    </tr>\n",
       "    <tr>\n",
       "      <th>4</th>\n",
       "      <td>Argentina</td>\n",
       "      <td>AR</td>\n",
       "      <td>Ciudad de Buenos Aires</td>\n",
       "      <td>AR002</td>\n",
       "      <td>POLYGON Z ((2747577.276 6094399.410 0.000, 274...</td>\n",
       "    </tr>\n",
       "  </tbody>\n",
       "</table>\n",
       "</div>"
      ],
      "text/plain": [
       "     ADM0_ES ADM0_PCODE                 ADM1_ES ADM1_PCODE  \\\n",
       "0  Argentina         AR            Buenos Aires      AR006   \n",
       "1  Argentina         AR               Catamarca      AR010   \n",
       "2  Argentina         AR                   Chaco      AR022   \n",
       "3  Argentina         AR                  Chubut      AR026   \n",
       "4  Argentina         AR  Ciudad de Buenos Aires      AR002   \n",
       "\n",
       "                                            geometry  \n",
       "0  MULTIPOLYGON Z (((2335919.444 5475450.748 0.00...  \n",
       "1  POLYGON Z ((1906189.076 7204695.456 0.000, 191...  \n",
       "2  POLYGON Z ((2494292.791 7296258.081 0.000, 249...  \n",
       "3  MULTIPOLYGON Z (((1916196.919 4975824.860 0.00...  \n",
       "4  POLYGON Z ((2747577.276 6094399.410 0.000, 274...  "
      ]
     },
     "execution_count": 67,
     "metadata": {},
     "output_type": "execute_result"
    }
   ],
   "source": [
    "# map\n",
    "#import geopandas as gpd\n",
    "\n",
    "#peruDataDist=os.path.join('miningGDF',\"maps\",\"DistritosMap.zip\")\n",
    "\n",
    "#datadismap=gpd.read_file(peruDataDist)\n",
    "\n",
    "states.head()"
   ]
  },
  {
   "cell_type": "code",
   "execution_count": 68,
   "id": "c68fa3ca",
   "metadata": {},
   "outputs": [
    {
     "data": {
      "text/html": [
       "<div>\n",
       "<style scoped>\n",
       "    .dataframe tbody tr th:only-of-type {\n",
       "        vertical-align: middle;\n",
       "    }\n",
       "\n",
       "    .dataframe tbody tr th {\n",
       "        vertical-align: top;\n",
       "    }\n",
       "\n",
       "    .dataframe thead th {\n",
       "        text-align: right;\n",
       "    }\n",
       "</style>\n",
       "<table border=\"1\" class=\"dataframe\">\n",
       "  <thead>\n",
       "    <tr style=\"text-align: right;\">\n",
       "      <th></th>\n",
       "      <th>Pais</th>\n",
       "      <th>ADM0_PCODE</th>\n",
       "      <th>Provincia</th>\n",
       "      <th>ADM1_PCODE</th>\n",
       "      <th>geometry</th>\n",
       "    </tr>\n",
       "  </thead>\n",
       "  <tbody>\n",
       "    <tr>\n",
       "      <th>0</th>\n",
       "      <td>Argentina</td>\n",
       "      <td>AR</td>\n",
       "      <td>Buenos Aires</td>\n",
       "      <td>AR006</td>\n",
       "      <td>MULTIPOLYGON Z (((2335919.444 5475450.748 0.00...</td>\n",
       "    </tr>\n",
       "    <tr>\n",
       "      <th>1</th>\n",
       "      <td>Argentina</td>\n",
       "      <td>AR</td>\n",
       "      <td>Catamarca</td>\n",
       "      <td>AR010</td>\n",
       "      <td>POLYGON Z ((1906189.076 7204695.456 0.000, 191...</td>\n",
       "    </tr>\n",
       "    <tr>\n",
       "      <th>2</th>\n",
       "      <td>Argentina</td>\n",
       "      <td>AR</td>\n",
       "      <td>Chaco</td>\n",
       "      <td>AR022</td>\n",
       "      <td>POLYGON Z ((2494292.791 7296258.081 0.000, 249...</td>\n",
       "    </tr>\n",
       "    <tr>\n",
       "      <th>3</th>\n",
       "      <td>Argentina</td>\n",
       "      <td>AR</td>\n",
       "      <td>Chubut</td>\n",
       "      <td>AR026</td>\n",
       "      <td>MULTIPOLYGON Z (((1916196.919 4975824.860 0.00...</td>\n",
       "    </tr>\n",
       "    <tr>\n",
       "      <th>4</th>\n",
       "      <td>Argentina</td>\n",
       "      <td>AR</td>\n",
       "      <td>Ciudad de Buenos Aires</td>\n",
       "      <td>AR002</td>\n",
       "      <td>POLYGON Z ((2747577.276 6094399.410 0.000, 274...</td>\n",
       "    </tr>\n",
       "  </tbody>\n",
       "</table>\n",
       "</div>"
      ],
      "text/plain": [
       "        Pais ADM0_PCODE               Provincia ADM1_PCODE  \\\n",
       "0  Argentina         AR            Buenos Aires      AR006   \n",
       "1  Argentina         AR               Catamarca      AR010   \n",
       "2  Argentina         AR                   Chaco      AR022   \n",
       "3  Argentina         AR                  Chubut      AR026   \n",
       "4  Argentina         AR  Ciudad de Buenos Aires      AR002   \n",
       "\n",
       "                                            geometry  \n",
       "0  MULTIPOLYGON Z (((2335919.444 5475450.748 0.00...  \n",
       "1  POLYGON Z ((1906189.076 7204695.456 0.000, 191...  \n",
       "2  POLYGON Z ((2494292.791 7296258.081 0.000, 249...  \n",
       "3  MULTIPOLYGON Z (((1916196.919 4975824.860 0.00...  \n",
       "4  POLYGON Z ((2747577.276 6094399.410 0.000, 274...  "
      ]
     },
     "execution_count": 68,
     "metadata": {},
     "output_type": "execute_result"
    }
   ],
   "source": [
    "#rename\n",
    "states.rename(columns={'ADM1_ES':'Provincia', 'ADM0_ES':'Pais'},inplace=True)\n",
    "states.head()"
   ]
  },
  {
   "cell_type": "code",
   "execution_count": 69,
   "id": "ed344334",
   "metadata": {},
   "outputs": [
    {
     "data": {
      "text/html": [
       "<div>\n",
       "<style scoped>\n",
       "    .dataframe tbody tr th:only-of-type {\n",
       "        vertical-align: middle;\n",
       "    }\n",
       "\n",
       "    .dataframe tbody tr th {\n",
       "        vertical-align: top;\n",
       "    }\n",
       "\n",
       "    .dataframe thead th {\n",
       "        text-align: right;\n",
       "    }\n",
       "</style>\n",
       "<table border=\"1\" class=\"dataframe\">\n",
       "  <thead>\n",
       "    <tr style=\"text-align: right;\">\n",
       "      <th></th>\n",
       "      <th>Pais_x</th>\n",
       "      <th>ADM0_PCODE</th>\n",
       "      <th>Provincia</th>\n",
       "      <th>ADM1_PCODE</th>\n",
       "      <th>geometry</th>\n",
       "      <th>IDH_2019</th>\n",
       "      <th>muertes_Tuberculosis</th>\n",
       "      <th>Pobreza_personas(%)</th>\n",
       "      <th>Año</th>\n",
       "      <th>Pais_y</th>\n",
       "    </tr>\n",
       "  </thead>\n",
       "  <tbody>\n",
       "    <tr>\n",
       "      <th>0</th>\n",
       "      <td>Argentina</td>\n",
       "      <td>AR</td>\n",
       "      <td>Buenos Aires</td>\n",
       "      <td>AR006</td>\n",
       "      <td>MULTIPOLYGON Z (((2335919.444 5475450.748 0.00...</td>\n",
       "      <td>0,842</td>\n",
       "      <td>209</td>\n",
       "      <td>11,3</td>\n",
       "      <td>2019</td>\n",
       "      <td>Argentina</td>\n",
       "    </tr>\n",
       "    <tr>\n",
       "      <th>1</th>\n",
       "      <td>Argentina</td>\n",
       "      <td>AR</td>\n",
       "      <td>Catamarca</td>\n",
       "      <td>AR010</td>\n",
       "      <td>POLYGON Z ((1906189.076 7204695.456 0.000, 191...</td>\n",
       "      <td>0,844</td>\n",
       "      <td>2</td>\n",
       "      <td>6,8</td>\n",
       "      <td>2019</td>\n",
       "      <td>Argentina</td>\n",
       "    </tr>\n",
       "    <tr>\n",
       "      <th>2</th>\n",
       "      <td>Argentina</td>\n",
       "      <td>AR</td>\n",
       "      <td>Chaco</td>\n",
       "      <td>AR022</td>\n",
       "      <td>POLYGON Z ((2494292.791 7296258.081 0.000, 249...</td>\n",
       "      <td>0,808</td>\n",
       "      <td>7</td>\n",
       "      <td>4,4</td>\n",
       "      <td>2019</td>\n",
       "      <td>Argentina</td>\n",
       "    </tr>\n",
       "    <tr>\n",
       "      <th>3</th>\n",
       "      <td>Argentina</td>\n",
       "      <td>AR</td>\n",
       "      <td>Chubut</td>\n",
       "      <td>AR026</td>\n",
       "      <td>MULTIPOLYGON Z (((1916196.919 4975824.860 0.00...</td>\n",
       "      <td>0,858</td>\n",
       "      <td>9</td>\n",
       "      <td>7,6</td>\n",
       "      <td>2019</td>\n",
       "      <td>Argentina</td>\n",
       "    </tr>\n",
       "    <tr>\n",
       "      <th>4</th>\n",
       "      <td>Argentina</td>\n",
       "      <td>AR</td>\n",
       "      <td>Corrientes</td>\n",
       "      <td>AR018</td>\n",
       "      <td>MULTIPOLYGON Z (((3004612.053 6855238.635 0.00...</td>\n",
       "      <td>0,839</td>\n",
       "      <td>10</td>\n",
       "      <td>6,6</td>\n",
       "      <td>2019</td>\n",
       "      <td>Argentina</td>\n",
       "    </tr>\n",
       "    <tr>\n",
       "      <th>5</th>\n",
       "      <td>Argentina</td>\n",
       "      <td>AR</td>\n",
       "      <td>Formosa</td>\n",
       "      <td>AR034</td>\n",
       "      <td>POLYGON Z ((2497424.367 7484757.793 0.000, 249...</td>\n",
       "      <td>0,822</td>\n",
       "      <td>4</td>\n",
       "      <td>11,0</td>\n",
       "      <td>2019</td>\n",
       "      <td>Argentina</td>\n",
       "    </tr>\n",
       "    <tr>\n",
       "      <th>6</th>\n",
       "      <td>Argentina</td>\n",
       "      <td>AR</td>\n",
       "      <td>Jujuy</td>\n",
       "      <td>AR038</td>\n",
       "      <td>POLYGON Z ((2098377.586 7581146.835 0.000, 210...</td>\n",
       "      <td>0,840</td>\n",
       "      <td>10</td>\n",
       "      <td>5,7</td>\n",
       "      <td>2019</td>\n",
       "      <td>Argentina</td>\n",
       "    </tr>\n",
       "    <tr>\n",
       "      <th>7</th>\n",
       "      <td>Argentina</td>\n",
       "      <td>AR</td>\n",
       "      <td>La Rioja</td>\n",
       "      <td>AR046</td>\n",
       "      <td>POLYGON Z ((1842905.218 6918621.830 0.000, 184...</td>\n",
       "      <td>0,840</td>\n",
       "      <td>4</td>\n",
       "      <td>6,8</td>\n",
       "      <td>2019</td>\n",
       "      <td>Argentina</td>\n",
       "    </tr>\n",
       "    <tr>\n",
       "      <th>8</th>\n",
       "      <td>Argentina</td>\n",
       "      <td>AR</td>\n",
       "      <td>Mendoza</td>\n",
       "      <td>AR050</td>\n",
       "      <td>POLYGON Z ((1771643.879 6456186.096 0.000, 177...</td>\n",
       "      <td>0,848</td>\n",
       "      <td>8</td>\n",
       "      <td>5,8</td>\n",
       "      <td>2019</td>\n",
       "      <td>Argentina</td>\n",
       "    </tr>\n",
       "    <tr>\n",
       "      <th>9</th>\n",
       "      <td>Argentina</td>\n",
       "      <td>AR</td>\n",
       "      <td>Misiones</td>\n",
       "      <td>AR054</td>\n",
       "      <td>MULTIPOLYGON Z (((3095005.586 6872963.019 0.00...</td>\n",
       "      <td>0,842</td>\n",
       "      <td>14</td>\n",
       "      <td>5,7</td>\n",
       "      <td>2019</td>\n",
       "      <td>Argentina</td>\n",
       "    </tr>\n",
       "    <tr>\n",
       "      <th>10</th>\n",
       "      <td>Argentina</td>\n",
       "      <td>AR</td>\n",
       "      <td>Salta</td>\n",
       "      <td>AR066</td>\n",
       "      <td>POLYGON Z ((2451820.395 7539541.582 0.000, 245...</td>\n",
       "      <td>0,844</td>\n",
       "      <td>21</td>\n",
       "      <td>3,2</td>\n",
       "      <td>2019</td>\n",
       "      <td>Argentina</td>\n",
       "    </tr>\n",
       "    <tr>\n",
       "      <th>11</th>\n",
       "      <td>Argentina</td>\n",
       "      <td>AR</td>\n",
       "      <td>San Juan</td>\n",
       "      <td>AR070</td>\n",
       "      <td>POLYGON Z ((1734160.435 6855329.798 0.000, 173...</td>\n",
       "      <td>0,838</td>\n",
       "      <td>7</td>\n",
       "      <td>8,6</td>\n",
       "      <td>2019</td>\n",
       "      <td>Argentina</td>\n",
       "    </tr>\n",
       "    <tr>\n",
       "      <th>12</th>\n",
       "      <td>Argentina</td>\n",
       "      <td>AR</td>\n",
       "      <td>San Luis</td>\n",
       "      <td>AR074</td>\n",
       "      <td>POLYGON Z ((1968211.713 6465395.769 0.000, 196...</td>\n",
       "      <td>0,843</td>\n",
       "      <td>1</td>\n",
       "      <td>7,6</td>\n",
       "      <td>2019</td>\n",
       "      <td>Argentina</td>\n",
       "    </tr>\n",
       "    <tr>\n",
       "      <th>13</th>\n",
       "      <td>Argentina</td>\n",
       "      <td>AR</td>\n",
       "      <td>Santa Cruz</td>\n",
       "      <td>AR078</td>\n",
       "      <td>MULTIPOLYGON Z (((1681041.738 4336736.817 0.00...</td>\n",
       "      <td>0,854</td>\n",
       "      <td>4</td>\n",
       "      <td>NaN</td>\n",
       "      <td>2019</td>\n",
       "      <td>Argentina</td>\n",
       "    </tr>\n",
       "    <tr>\n",
       "      <th>14</th>\n",
       "      <td>Argentina</td>\n",
       "      <td>AR</td>\n",
       "      <td>Santa Fe</td>\n",
       "      <td>AR082</td>\n",
       "      <td>POLYGON Z ((2663631.362 6846895.383 0.000, 270...</td>\n",
       "      <td>0,841</td>\n",
       "      <td>25</td>\n",
       "      <td>3,5</td>\n",
       "      <td>2019</td>\n",
       "      <td>Argentina</td>\n",
       "    </tr>\n",
       "    <tr>\n",
       "      <th>15</th>\n",
       "      <td>Argentina</td>\n",
       "      <td>AR</td>\n",
       "      <td>Tierra del Fuego</td>\n",
       "      <td>AR094</td>\n",
       "      <td>MULTIPOLYGON Z (((1848191.934 3884066.663 0.00...</td>\n",
       "      <td>0,856</td>\n",
       "      <td>1</td>\n",
       "      <td>2,8</td>\n",
       "      <td>2019</td>\n",
       "      <td>Argentina</td>\n",
       "    </tr>\n",
       "  </tbody>\n",
       "</table>\n",
       "</div>"
      ],
      "text/plain": [
       "       Pais_x ADM0_PCODE         Provincia ADM1_PCODE  \\\n",
       "0   Argentina         AR      Buenos Aires      AR006   \n",
       "1   Argentina         AR         Catamarca      AR010   \n",
       "2   Argentina         AR             Chaco      AR022   \n",
       "3   Argentina         AR            Chubut      AR026   \n",
       "4   Argentina         AR        Corrientes      AR018   \n",
       "5   Argentina         AR           Formosa      AR034   \n",
       "6   Argentina         AR             Jujuy      AR038   \n",
       "7   Argentina         AR          La Rioja      AR046   \n",
       "8   Argentina         AR           Mendoza      AR050   \n",
       "9   Argentina         AR          Misiones      AR054   \n",
       "10  Argentina         AR             Salta      AR066   \n",
       "11  Argentina         AR          San Juan      AR070   \n",
       "12  Argentina         AR          San Luis      AR074   \n",
       "13  Argentina         AR        Santa Cruz      AR078   \n",
       "14  Argentina         AR          Santa Fe      AR082   \n",
       "15  Argentina         AR  Tierra del Fuego      AR094   \n",
       "\n",
       "                                             geometry IDH_2019  \\\n",
       "0   MULTIPOLYGON Z (((2335919.444 5475450.748 0.00...    0,842   \n",
       "1   POLYGON Z ((1906189.076 7204695.456 0.000, 191...    0,844   \n",
       "2   POLYGON Z ((2494292.791 7296258.081 0.000, 249...    0,808   \n",
       "3   MULTIPOLYGON Z (((1916196.919 4975824.860 0.00...    0,858   \n",
       "4   MULTIPOLYGON Z (((3004612.053 6855238.635 0.00...    0,839   \n",
       "5   POLYGON Z ((2497424.367 7484757.793 0.000, 249...    0,822   \n",
       "6   POLYGON Z ((2098377.586 7581146.835 0.000, 210...    0,840   \n",
       "7   POLYGON Z ((1842905.218 6918621.830 0.000, 184...    0,840   \n",
       "8   POLYGON Z ((1771643.879 6456186.096 0.000, 177...    0,848   \n",
       "9   MULTIPOLYGON Z (((3095005.586 6872963.019 0.00...    0,842   \n",
       "10  POLYGON Z ((2451820.395 7539541.582 0.000, 245...    0,844   \n",
       "11  POLYGON Z ((1734160.435 6855329.798 0.000, 173...    0,838   \n",
       "12  POLYGON Z ((1968211.713 6465395.769 0.000, 196...    0,843   \n",
       "13  MULTIPOLYGON Z (((1681041.738 4336736.817 0.00...    0,854   \n",
       "14  POLYGON Z ((2663631.362 6846895.383 0.000, 270...    0,841   \n",
       "15  MULTIPOLYGON Z (((1848191.934 3884066.663 0.00...    0,856   \n",
       "\n",
       "    muertes_Tuberculosis  Pobreza_personas(%)   Año     Pais_y  \n",
       "0                     209                11,3  2019  Argentina  \n",
       "1                       2                 6,8  2019  Argentina  \n",
       "2                       7                 4,4  2019  Argentina  \n",
       "3                       9                 7,6  2019  Argentina  \n",
       "4                      10                 6,6  2019  Argentina  \n",
       "5                       4                11,0  2019  Argentina  \n",
       "6                      10                 5,7  2019  Argentina  \n",
       "7                       4                 6,8  2019  Argentina  \n",
       "8                       8                 5,8  2019  Argentina  \n",
       "9                      14                 5,7  2019  Argentina  \n",
       "10                     21                 3,2  2019  Argentina  \n",
       "11                      7                 8,6  2019  Argentina  \n",
       "12                      1                 7,6  2019  Argentina  \n",
       "13                      4                 NaN  2019  Argentina  \n",
       "14                     25                 3,5  2019  Argentina  \n",
       "15                      1                 2,8  2019  Argentina  "
      ]
     },
     "execution_count": 69,
     "metadata": {},
     "output_type": "execute_result"
    }
   ],
   "source": [
    "tablaMergeadas=states.merge(datadis, left_on='Provincia', right_on='Provincia')\n",
    "tablaMergeadas"
   ]
  },
  {
   "cell_type": "code",
   "execution_count": 83,
   "id": "0ef6269e",
   "metadata": {},
   "outputs": [
    {
     "name": "stdout",
     "output_type": "stream",
     "text": [
      "<class 'geopandas.geodataframe.GeoDataFrame'>\n",
      "RangeIndex: 16 entries, 0 to 15\n",
      "Data columns (total 10 columns):\n",
      " #   Column                 Non-Null Count  Dtype   \n",
      "---  ------                 --------------  -----   \n",
      " 0   Pais_x                 16 non-null     object  \n",
      " 1   ADM0_PCODE             16 non-null     object  \n",
      " 2   Provincia              16 non-null     object  \n",
      " 3   ADM1_PCODE             16 non-null     object  \n",
      " 4   geometry               16 non-null     geometry\n",
      " 5   IDH_2019               16 non-null     object  \n",
      " 6   muertes_Tuberculosis   16 non-null     int64   \n",
      " 7   Pobreza_personas(%)    15 non-null     object  \n",
      " 8   Año                    16 non-null     int64   \n",
      " 9   Pais_y                 16 non-null     object  \n",
      "dtypes: geometry(1), int64(2), object(7)\n",
      "memory usage: 1.4+ KB\n"
     ]
    }
   ],
   "source": [
    "tablaMergeadas.info()"
   ]
  },
  {
   "cell_type": "code",
   "execution_count": 70,
   "id": "265d94ae",
   "metadata": {},
   "outputs": [
    {
     "data": {
      "text/plain": [
       "(16, 10)"
      ]
     },
     "execution_count": 70,
     "metadata": {},
     "output_type": "execute_result"
    }
   ],
   "source": [
    "states.merge(datadis, left_on='Provincia', right_on='Provincia').shape"
   ]
  },
  {
   "cell_type": "code",
   "execution_count": 71,
   "id": "e17d8a13",
   "metadata": {},
   "outputs": [
    {
     "data": {
      "text/plain": [
       "0     Ciudad Autonoma de Buenos Aires\n",
       "1                        Buenos Aires\n",
       "2                             Cordoba\n",
       "3                          Entre Rios\n",
       "4                            Santa Fe\n",
       "5                            La Rioja\n",
       "6                             Mendoza\n",
       "7                            San Juan\n",
       "8                            San Luis\n",
       "9                           Catamarca\n",
       "10                              Jujuy\n",
       "11                              Salta\n",
       "12                Santiago Del Estero\n",
       "13                            Tucuman\n",
       "14                         Corrientes\n",
       "15                              Chaco\n",
       "16                            Formosa\n",
       "17                           Misiones\n",
       "18                             Chubut\n",
       "19                            Neuquen\n",
       "20                          Rio Negro\n",
       "21                         Santa Cruz\n",
       "22                   Tierra del Fuego\n",
       "23           Gran Tucumán -Tafí Viejo\n",
       "24                      Jujuy-Palpalá\n",
       "Name: Provincia, dtype: object"
      ]
     },
     "execution_count": 71,
     "metadata": {},
     "output_type": "execute_result"
    }
   ],
   "source": [
    "datadis.Provincia"
   ]
  },
  {
   "cell_type": "code",
   "execution_count": 72,
   "id": "98385fc3",
   "metadata": {},
   "outputs": [
    {
     "data": {
      "text/plain": [
       "0               Buenos Aires\n",
       "1                  Catamarca\n",
       "2                      Chaco\n",
       "3                     Chubut\n",
       "4     Ciudad de Buenos Aires\n",
       "5                    Córdoba\n",
       "6                 Corrientes\n",
       "7                 Entre Ríos\n",
       "8                    Formosa\n",
       "9                      Jujuy\n",
       "10                  La Pampa\n",
       "11                  La Rioja\n",
       "12                   Mendoza\n",
       "13                  Misiones\n",
       "14                   Neuquén\n",
       "15                 Río negro\n",
       "16                     Salta\n",
       "17                  San Juan\n",
       "18                  San Luis\n",
       "19                Santa Cruz\n",
       "20                  Santa Fe\n",
       "21       Santiago del Estero\n",
       "22          Tierra del Fuego\n",
       "23                   Tucumán\n",
       "Name: Provincia, dtype: object"
      ]
     },
     "execution_count": 72,
     "metadata": {},
     "output_type": "execute_result"
    }
   ],
   "source": [
    "states.Provincia"
   ]
  },
  {
   "cell_type": "code",
   "execution_count": 73,
   "id": "2f0bf94e",
   "metadata": {},
   "outputs": [],
   "source": [
    "# all capitals, no empty spaces before or after.\n",
    "\n",
    "capitalizeColumns=lambda x: x.str.upper().str.strip()\n",
    "datadis[['Provincia']]=datadis[['Provincia']].apply(capitalizeColumns)\n",
    "states[['Provincia','Pais']]=states[['Provincia','Pais']].apply(capitalizeColumns)"
   ]
  },
  {
   "cell_type": "code",
   "execution_count": 74,
   "id": "b5fe0d4e",
   "metadata": {},
   "outputs": [
    {
     "name": "stdout",
     "output_type": "stream",
     "text": [
      "Defaulting to user installation because normal site-packages is not writeable\n",
      "Requirement already satisfied: unidecode in c:\\users\\edgar ramos castro\\appdata\\roaming\\python\\python311\\site-packages (1.3.6)\n"
     ]
    }
   ],
   "source": [
    "!pip install unidecode"
   ]
  },
  {
   "cell_type": "code",
   "execution_count": 75,
   "id": "4fb5369b",
   "metadata": {},
   "outputs": [],
   "source": [
    "import unidecode\n",
    "\n",
    "\n",
    "byePunctuation=lambda x: unidecode.unidecode(x)\n",
    "datadis[['Provincia']]=datadis[['Provincia']].applymap(byePunctuation)  #applymap for olderpandas para colab\n",
    "states[['Provincia','Pais']]=states[['Provincia','Pais']].applymap(byePunctuation) #applymap for olderpandas"
   ]
  },
  {
   "cell_type": "code",
   "execution_count": 76,
   "id": "51cdf48c",
   "metadata": {},
   "outputs": [
    {
     "data": {
      "text/plain": [
       "(0, 0)"
      ]
     },
     "execution_count": 76,
     "metadata": {},
     "output_type": "execute_result"
    }
   ],
   "source": [
    "datadis.Provincia.duplicated().sum(),states.Provincia.duplicated().sum()"
   ]
  },
  {
   "cell_type": "code",
   "execution_count": 79,
   "id": "b70d753d",
   "metadata": {},
   "outputs": [
    {
     "ename": "NameError",
     "evalue": "name 'datadismap' is not defined",
     "output_type": "error",
     "traceback": [
      "\u001b[1;31m---------------------------------------------------------------------------\u001b[0m",
      "\u001b[1;31mNameError\u001b[0m                                 Traceback (most recent call last)",
      "Cell \u001b[1;32mIn[79], line 3\u001b[0m\n\u001b[0;32m      1\u001b[0m \u001b[38;5;66;03m# concatenating\u001b[39;00m\n\u001b[0;32m      2\u001b[0m datadis[\u001b[38;5;124m'\u001b[39m\u001b[38;5;124mprovDist\u001b[39m\u001b[38;5;124m'\u001b[39m]\u001b[38;5;241m=\u001b[39m[\u001b[38;5;124m\"\u001b[39m\u001b[38;5;124m+\u001b[39m\u001b[38;5;124m\"\u001b[39m\u001b[38;5;241m.\u001b[39mjoin(pd) \u001b[38;5;28;01mfor\u001b[39;00m pd \u001b[38;5;129;01min\u001b[39;00m \u001b[38;5;28mzip\u001b[39m (datadis\u001b[38;5;241m.\u001b[39mProvincia)]\n\u001b[1;32m----> 3\u001b[0m datadismap[\u001b[38;5;124m'\u001b[39m\u001b[38;5;124mprovDist\u001b[39m\u001b[38;5;124m'\u001b[39m]\u001b[38;5;241m=\u001b[39m[\u001b[38;5;124m\"\u001b[39m\u001b[38;5;124m+\u001b[39m\u001b[38;5;124m\"\u001b[39m\u001b[38;5;241m.\u001b[39mjoin(pd) \u001b[38;5;28;01mfor\u001b[39;00m pd \u001b[38;5;129;01min\u001b[39;00m \u001b[38;5;28mzip\u001b[39m (datadismap\u001b[38;5;241m.\u001b[39mProvincia)]\n",
      "\u001b[1;31mNameError\u001b[0m: name 'datadismap' is not defined"
     ]
    }
   ],
   "source": [
    "# concatenating\n",
    "#datadis['provDist']=[\"+\".join(pd) for pd in zip (datadis.Provincia)]\n",
    "#datadismap['provDist']=[\"+\".join(pd) for pd in zip (datadismap.Provincia)]"
   ]
  },
  {
   "cell_type": "code",
   "execution_count": null,
   "id": "1c947513",
   "metadata": {},
   "outputs": [],
   "source": []
  },
  {
   "cell_type": "code",
   "execution_count": null,
   "id": "3da59131",
   "metadata": {},
   "outputs": [],
   "source": []
  },
  {
   "cell_type": "markdown",
   "id": "f7f97b8b",
   "metadata": {},
   "source": [
    "### Exercise 6\n",
    "\n",
    "<div class=\"alert-success\">\n",
    "    \n",
    "1. Choose a numeric variable from your merged data.\n",
    "2. Decide which is the  best classification scheme for that variable.\n",
    "3. Make a map for the best scheme.\n",
    "4. Make a histogram for the best scheme.\n",
    "</div>"
   ]
  },
  {
   "cell_type": "code",
   "execution_count": 85,
   "id": "74d3bf55",
   "metadata": {},
   "outputs": [
    {
     "data": {
      "text/plain": [
       "count        16\n",
       "unique       13\n",
       "top       0,842\n",
       "freq          2\n",
       "Name: IDH_2019, dtype: object"
      ]
     },
     "execution_count": 85,
     "metadata": {},
     "output_type": "execute_result"
    }
   ],
   "source": [
    "# statistics\n",
    "tablaMergeadas.IDH_2019.describe()"
   ]
  },
  {
   "cell_type": "code",
   "execution_count": 84,
   "id": "27447aee",
   "metadata": {},
   "outputs": [
    {
     "name": "stdout",
     "output_type": "stream",
     "text": [
      "Defaulting to user installation because normal site-packages is not writeable\n",
      "Requirement already satisfied: seaborn in c:\\users\\edgar ramos castro\\appdata\\roaming\\python\\python311\\site-packages (0.13.0)\n",
      "Requirement already satisfied: numpy!=1.24.0,>=1.20 in c:\\programdata\\anaconda3\\envs\\sds_mi_ambiente_romina\\lib\\site-packages (from seaborn) (1.25.2)\n",
      "Requirement already satisfied: pandas>=1.2 in c:\\programdata\\anaconda3\\envs\\sds_mi_ambiente_romina\\lib\\site-packages (from seaborn) (2.0.3)\n",
      "Requirement already satisfied: matplotlib!=3.6.1,>=3.3 in c:\\programdata\\anaconda3\\envs\\sds_mi_ambiente_romina\\lib\\site-packages (from seaborn) (3.8.0)\n",
      "Requirement already satisfied: contourpy>=1.0.1 in c:\\programdata\\anaconda3\\envs\\sds_mi_ambiente_romina\\lib\\site-packages (from matplotlib!=3.6.1,>=3.3->seaborn) (1.1.1)\n",
      "Requirement already satisfied: cycler>=0.10 in c:\\programdata\\anaconda3\\envs\\sds_mi_ambiente_romina\\lib\\site-packages (from matplotlib!=3.6.1,>=3.3->seaborn) (0.12.1)\n",
      "Requirement already satisfied: fonttools>=4.22.0 in c:\\programdata\\anaconda3\\envs\\sds_mi_ambiente_romina\\lib\\site-packages (from matplotlib!=3.6.1,>=3.3->seaborn) (4.43.1)\n",
      "Requirement already satisfied: kiwisolver>=1.0.1 in c:\\programdata\\anaconda3\\envs\\sds_mi_ambiente_romina\\lib\\site-packages (from matplotlib!=3.6.1,>=3.3->seaborn) (1.4.5)\n",
      "Requirement already satisfied: packaging>=20.0 in c:\\programdata\\anaconda3\\envs\\sds_mi_ambiente_romina\\lib\\site-packages (from matplotlib!=3.6.1,>=3.3->seaborn) (23.0)\n",
      "Requirement already satisfied: pillow>=6.2.0 in c:\\programdata\\anaconda3\\envs\\sds_mi_ambiente_romina\\lib\\site-packages (from matplotlib!=3.6.1,>=3.3->seaborn) (9.4.0)\n",
      "Requirement already satisfied: pyparsing>=2.3.1 in c:\\programdata\\anaconda3\\envs\\sds_mi_ambiente_romina\\lib\\site-packages (from matplotlib!=3.6.1,>=3.3->seaborn) (3.1.1)\n",
      "Requirement already satisfied: python-dateutil>=2.7 in c:\\programdata\\anaconda3\\envs\\sds_mi_ambiente_romina\\lib\\site-packages (from matplotlib!=3.6.1,>=3.3->seaborn) (2.8.2)\n",
      "Requirement already satisfied: pytz>=2020.1 in c:\\programdata\\anaconda3\\envs\\sds_mi_ambiente_romina\\lib\\site-packages (from pandas>=1.2->seaborn) (2022.7)\n",
      "Requirement already satisfied: tzdata>=2022.1 in c:\\programdata\\anaconda3\\envs\\sds_mi_ambiente_romina\\lib\\site-packages (from pandas>=1.2->seaborn) (2023.3)\n",
      "Requirement already satisfied: six>=1.5 in c:\\programdata\\anaconda3\\envs\\sds_mi_ambiente_romina\\lib\\site-packages (from python-dateutil>=2.7->matplotlib!=3.6.1,>=3.3->seaborn) (1.16.0)\n"
     ]
    }
   ],
   "source": [
    "!pip install seaborn"
   ]
  },
  {
   "cell_type": "code",
   "execution_count": null,
   "id": "bd9f094b",
   "metadata": {},
   "outputs": [],
   "source": [
    "import seaborn as sea\n",
    "\n",
    "sea.histplot(datadisMap.IDH2019, color='yellow')"
   ]
  },
  {
   "cell_type": "code",
   "execution_count": null,
   "id": "e14f8fa0",
   "metadata": {},
   "outputs": [],
   "source": [
    "import mapclassify#esto no tien q ver con la data espacial ino cortes con la data numerica \n",
    "import numpy as np  #es uuna manera de decir equal interval\n",
    "\n",
    "np.random.seed(12345) # so we all get the same results!\n",
    "\n",
    "# let's try 5 intervals\n",
    "K=5\n",
    "theVar=datadisMap['IDH2019']\n",
    "# same interval width, easy interpretation\n",
    "ei5 = mapclassify.EqualInterval(theVar, k=K)\n",
    "# same interval width based on standard deviation, easy - but not as the previous one, poor when high skewness\n",
    "msd = mapclassify.StdMean(theVar)\n",
    "# interval width varies, counts per interval are close, not easy to grasp, repeated values complicate cuts                                \n",
    "q5=mapclassify.Quantiles(theVar,k=K)\n",
    "\n",
    "# based on similarity, good for multimodal data \n",
    "mb5 = mapclassify.MaximumBreaks(theVar, k=K)\n",
    "# based on similarity, good for skewed data\n",
    "ht = mapclassify.HeadTailBreaks(theVar) # no K needed\n",
    "# based on similarity, optimizer\n",
    "fj5 = mapclassify.FisherJenks(theVar, k=K)\n",
    "# based on similarity, optimizer\n",
    "jc5 = mapclassify.JenksCaspall(theVar, k=K)\n",
    "# based on similarity, optimizer\n",
    "mp5 = mapclassify.MaxP(theVar, k=K)\n",
    "#para calcular el error\n",
    "#poca distancia intern mucha distancia extrena si me da valores altos es que la data no esta bien cortada\n",
    "#todo depende de oco esta la data el problema son los valores extremos "
   ]
  },
  {
   "cell_type": "code",
   "execution_count": null,
   "id": "763a8efc",
   "metadata": {},
   "outputs": [],
   "source": []
  },
  {
   "cell_type": "code",
   "execution_count": null,
   "id": "7495b572",
   "metadata": {},
   "outputs": [],
   "source": []
  },
  {
   "cell_type": "code",
   "execution_count": null,
   "id": "248d8f12",
   "metadata": {},
   "outputs": [],
   "source": []
  },
  {
   "cell_type": "code",
   "execution_count": null,
   "id": "0c23b529",
   "metadata": {},
   "outputs": [],
   "source": []
  },
  {
   "cell_type": "markdown",
   "id": "10384446",
   "metadata": {},
   "source": [
    "### Exercise 7\n",
    "\n",
    "<div class=\"alert-success\">\n",
    "        \n",
    "Compute the neighbors of the capital of your country. Plot the results for each of the options. (calcula la distcnia rook queen y knn)\n",
    "    \n",
    "</div>"
   ]
  },
  {
   "cell_type": "code",
   "execution_count": null,
   "id": "284b3d1f",
   "metadata": {},
   "outputs": [],
   "source": []
  },
  {
   "cell_type": "code",
   "execution_count": null,
   "id": "013f7380",
   "metadata": {},
   "outputs": [],
   "source": []
  },
  {
   "cell_type": "code",
   "execution_count": null,
   "id": "5c47b328",
   "metadata": {},
   "outputs": [],
   "source": []
  },
  {
   "cell_type": "code",
   "execution_count": null,
   "id": "c540a3ea",
   "metadata": {},
   "outputs": [],
   "source": []
  },
  {
   "cell_type": "code",
   "execution_count": null,
   "id": "7fbc88fc",
   "metadata": {},
   "outputs": [],
   "source": []
  },
  {
   "cell_type": "markdown",
   "id": "9e17a19b",
   "metadata": {},
   "source": [
    "### Exercise 8\n",
    "\n",
    "<div class=\"alert-success\">\n",
    "    \n",
    "1. Compute the Moran's coefficient for **all** your numeric variables.\n",
    "    \n",
    "2. Make a scatter plot for each variable.\n",
    "    \n",
    "</div>"
   ]
  },
  {
   "cell_type": "code",
   "execution_count": null,
   "id": "c7bf5a74",
   "metadata": {},
   "outputs": [],
   "source": []
  }
 ],
 "metadata": {
  "kernelspec": {
   "display_name": "Python 3 (ipykernel)",
   "language": "python",
   "name": "python3"
  },
  "language_info": {
   "codemirror_mode": {
    "name": "ipython",
    "version": 3
   },
   "file_extension": ".py",
   "mimetype": "text/x-python",
   "name": "python",
   "nbconvert_exporter": "python",
   "pygments_lexer": "ipython3",
   "version": "3.11.4"
  }
 },
 "nbformat": 4,
 "nbformat_minor": 5
}
