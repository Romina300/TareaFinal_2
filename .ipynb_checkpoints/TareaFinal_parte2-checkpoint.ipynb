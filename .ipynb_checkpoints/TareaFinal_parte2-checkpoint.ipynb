{
 "cells": [
  {
   "cell_type": "markdown",
   "id": "a54d7c16",
   "metadata": {},
   "source": [
    "### Exercise 5\n",
    "\n",
    "<div class=\"alert-success\">\n",
    "    \n",
    "1. **Get a polygons map of the lowest administrative unit possible. : distrito**\n",
    "    \n",
    "2. Get a **table of variables for those units**. At least 3 numerical variables. densidad poblacion, indice de contaminacion  indice de probreza, etc**\n",
    "    poblacion y superficie no considerar para las 3 varibles cuanti\n",
    "\n",
    "3. **Preprocess both tables and get them ready for merging.**\n",
    "\n",
    "4. **Do the merging, making the changes needed so that you keep the most columns.**\n",
    "    el ejercicio ess juntar la data con la tabla de datos, no hay ningun calculo\n",
    "    \n",
    "    \n",
    "</div>"
   ]
  },
  {
   "cell_type": "code",
   "execution_count": 7,
   "id": "459ed1e4",
   "metadata": {},
   "outputs": [
    {
     "data": {
      "text/plain": [
       "['country',\n",
       " 'cities',\n",
       " 'rivers',\n",
       " 'states',\n",
       " 'municipalities',\n",
       " 'border',\n",
       " 'airports']"
      ]
     },
     "execution_count": 7,
     "metadata": {},
     "output_type": "execute_result"
    }
   ],
   "source": [
    "from  fiona import listlayers\n",
    "import os\n",
    "\n",
    "argentinaMaps=os.path.join('maps','argentina22171','argentinaMaps22171_all3.gpkg')\n",
    "\n",
    "#layers in maps\n",
    "listlayers(argentinaMaps)"
   ]
  },
  {
   "cell_type": "code",
   "execution_count": 12,
   "id": "8d3cb7e2",
   "metadata": {},
   "outputs": [],
   "source": [
    "# reading in the data:\n",
    "import os\n",
    "import geopandas as gpd\n",
    "\n",
    "country=gpd.read_file(argentinaMaps,layer='country')\n",
    "states=gpd.read_file(argentinaMaps,layer='states')\n",
    "municipalities=gpd.read_file(argentinaMaps,layer='municipalities')\n",
    "airports=gpd.read_file(argentinaMaps,layer='airports')\n",
    "rivers=gpd.read_file(argentinaMaps,layer='rivers')\n",
    "border=gpd.read_file(argentinaMaps,layer='border')"
   ]
  },
  {
   "cell_type": "code",
   "execution_count": 14,
   "id": "e1b41df0",
   "metadata": {},
   "outputs": [
    {
     "name": "stdout",
     "output_type": "stream",
     "text": [
      "<class 'pandas.core.frame.DataFrame'>\n",
      "RangeIndex: 23 entries, 0 to 22\n",
      "Data columns (total 5 columns):\n",
      " #   Column                          Non-Null Count  Dtype \n",
      "---  ------                          --------------  ----- \n",
      " 0   Provincia                       23 non-null     object\n",
      " 1   Índice de Desarrollo Humano     23 non-null     object\n",
      " 2   Tuberculosis (cant. personas )  23 non-null     int64 \n",
      " 3   Pobreza personas(%)             22 non-null     object\n",
      " 4   Año                             23 non-null     int64 \n",
      "dtypes: int64(2), object(3)\n",
      "memory usage: 1.0+ KB\n"
     ]
    }
   ],
   "source": [
    "# data table\n",
    "import pandas as pd\n",
    "\n",
    "argData=os.path.join(\"data\",\"base_datos_3_varl.xlsx\")\n",
    "datadis=pd.read_excel(argData,\n",
    "                     dtype={'Ubigeo': object})\n",
    "datadis.info()\n",
    "#hasta ahora solo hemos trabajado con su geometria no con su data\n",
    "#tengo q hacer un merge: o sea meter la data dentro del poligono"
   ]
  },
  {
   "cell_type": "code",
   "execution_count": null,
   "id": "9775c08f",
   "metadata": {},
   "outputs": [],
   "source": [
    "# map\n",
    "import geopandas as gpd\n",
    "\n",
    "peruDataDist=os.path.join('miningGDF',\"maps\",\"DistritosMap.zip\")\n",
    "\n",
    "datadismap=gpd.read_file(peruDataDist)\n",
    "\n",
    "datadismap.info()"
   ]
  },
  {
   "cell_type": "code",
   "execution_count": null,
   "id": "265d94ae",
   "metadata": {},
   "outputs": [],
   "source": [
    "datadismap.merge(datadis, left_on='DISTRITO', right_on='Distrito').shape"
   ]
  },
  {
   "cell_type": "code",
   "execution_count": null,
   "id": "e17d8a13",
   "metadata": {},
   "outputs": [],
   "source": []
  },
  {
   "cell_type": "code",
   "execution_count": null,
   "id": "98385fc3",
   "metadata": {},
   "outputs": [],
   "source": []
  },
  {
   "cell_type": "code",
   "execution_count": null,
   "id": "2f0bf94e",
   "metadata": {},
   "outputs": [],
   "source": []
  },
  {
   "cell_type": "code",
   "execution_count": null,
   "id": "b5fe0d4e",
   "metadata": {},
   "outputs": [],
   "source": []
  },
  {
   "cell_type": "code",
   "execution_count": null,
   "id": "4fb5369b",
   "metadata": {},
   "outputs": [],
   "source": []
  },
  {
   "cell_type": "code",
   "execution_count": null,
   "id": "51cdf48c",
   "metadata": {},
   "outputs": [],
   "source": []
  },
  {
   "attachments": {},
   "cell_type": "markdown",
   "id": "f7f97b8b",
   "metadata": {},
   "source": [
    "### Exercise 6\n",
    "\n",
    "<div class=\"alert-success\">\n",
    "    \n",
    "1. Choose a numeric variable from your merged data.\n",
    "2. Decide which is the  best classification scheme for that variable.\n",
    "3. Make a map for the best scheme.\n",
    "4. Make a histogram for the best scheme.\n",
    "</div>"
   ]
  },
  {
   "cell_type": "code",
   "execution_count": null,
   "id": "74d3bf55",
   "metadata": {},
   "outputs": [],
   "source": []
  },
  {
   "cell_type": "code",
   "execution_count": null,
   "id": "27447aee",
   "metadata": {},
   "outputs": [],
   "source": []
  },
  {
   "cell_type": "code",
   "execution_count": null,
   "id": "bd9f094b",
   "metadata": {},
   "outputs": [],
   "source": []
  },
  {
   "cell_type": "code",
   "execution_count": null,
   "id": "e14f8fa0",
   "metadata": {},
   "outputs": [],
   "source": []
  },
  {
   "cell_type": "code",
   "execution_count": null,
   "id": "763a8efc",
   "metadata": {},
   "outputs": [],
   "source": []
  },
  {
   "cell_type": "code",
   "execution_count": null,
   "id": "7495b572",
   "metadata": {},
   "outputs": [],
   "source": []
  },
  {
   "cell_type": "code",
   "execution_count": null,
   "id": "248d8f12",
   "metadata": {},
   "outputs": [],
   "source": []
  },
  {
   "cell_type": "code",
   "execution_count": null,
   "id": "0c23b529",
   "metadata": {},
   "outputs": [],
   "source": []
  },
  {
   "cell_type": "markdown",
   "id": "10384446",
   "metadata": {},
   "source": [
    "### Exercise 7\n",
    "\n",
    "<div class=\"alert-success\">\n",
    "        \n",
    "Compute the neighbors of the capital of your country. Plot the results for each of the options. (calcula la distcnia rook queen y knn)\n",
    "    \n",
    "</div>"
   ]
  },
  {
   "cell_type": "code",
   "execution_count": null,
   "id": "284b3d1f",
   "metadata": {},
   "outputs": [],
   "source": []
  },
  {
   "cell_type": "code",
   "execution_count": null,
   "id": "013f7380",
   "metadata": {},
   "outputs": [],
   "source": []
  },
  {
   "cell_type": "code",
   "execution_count": null,
   "id": "5c47b328",
   "metadata": {},
   "outputs": [],
   "source": []
  },
  {
   "cell_type": "code",
   "execution_count": null,
   "id": "c540a3ea",
   "metadata": {},
   "outputs": [],
   "source": []
  },
  {
   "cell_type": "code",
   "execution_count": null,
   "id": "7fbc88fc",
   "metadata": {},
   "outputs": [],
   "source": []
  },
  {
   "cell_type": "markdown",
   "id": "9e17a19b",
   "metadata": {},
   "source": [
    "### Exercise 8\n",
    "\n",
    "<div class=\"alert-success\">\n",
    "    \n",
    "1. Compute the Moran's coefficient for **all** your numeric variables.\n",
    "    \n",
    "2. Make a scatter plot for each variable.\n",
    "    \n",
    "</div>"
   ]
  },
  {
   "cell_type": "code",
   "execution_count": null,
   "id": "c7bf5a74",
   "metadata": {},
   "outputs": [],
   "source": []
  }
 ],
 "metadata": {
  "kernelspec": {
   "display_name": "Python 3 (ipykernel)",
   "language": "python",
   "name": "python3"
  },
  "language_info": {
   "codemirror_mode": {
    "name": "ipython",
    "version": 3
   },
   "file_extension": ".py",
   "mimetype": "text/x-python",
   "name": "python",
   "nbconvert_exporter": "python",
   "pygments_lexer": "ipython3",
   "version": "3.11.4"
  }
 },
 "nbformat": 4,
 "nbformat_minor": 5
}
