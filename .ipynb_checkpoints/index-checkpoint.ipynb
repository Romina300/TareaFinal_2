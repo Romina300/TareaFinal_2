{
 "cells": [
  {
   "cell_type": "markdown",
   "id": "a54d7c16",
   "metadata": {},
   "source": [
    "### Exercise 5\n",
    "\n",
    "<div class=\"alert-success\">\n",
    "    \n",
    "1. **Get a polygons map of the lowest administrative unit possible. : distrito**\n",
    "    \n",
    "2. Get a **table of variables for those units**. At least 3 numerical variables. densidad poblacion, indice de contaminacion  indice de probreza, etc**\n",
    "    poblacion y superficie no considerar para las 3 varibles cuanti\n",
    "\n",
    "3. **Preprocess both tables and get them ready for merging.**\n",
    "\n",
    "4. **Do the merging, making the changes needed so that you keep the most columns.**\n",
    "    el ejercicio ess juntar la data con la tabla de datos, no hay ningun calculo\n",
    "    \n",
    "    \n",
    "</div>"
   ]
  },
  {
   "cell_type": "code",
   "execution_count": 232,
   "id": "459ed1e4",
   "metadata": {},
   "outputs": [
    {
     "data": {
      "text/plain": [
       "['country',\n",
       " 'cities',\n",
       " 'rivers',\n",
       " 'states',\n",
       " 'municipalities',\n",
       " 'border',\n",
       " 'airports']"
      ]
     },
     "execution_count": 232,
     "metadata": {},
     "output_type": "execute_result"
    }
   ],
   "source": [
    "from  fiona import listlayers\n",
    "import os\n",
    "\n",
    "argentinaMaps=os.path.join('maps','argentina22171','argentinaMaps22171_all3.gpkg')\n",
    "\n",
    "#layers in maps\n",
    "listlayers(argentinaMaps)"
   ]
  },
  {
   "cell_type": "code",
   "execution_count": 233,
   "id": "8d3cb7e2",
   "metadata": {},
   "outputs": [],
   "source": [
    "# reading in the data:\n",
    "import os\n",
    "import geopandas as gpd\n",
    "\n",
    "country=gpd.read_file(argentinaMaps,layer='country')\n",
    "states=gpd.read_file(argentinaMaps,layer='states')\n",
    "municipalities=gpd.read_file(argentinaMaps,layer='municipalities')\n"
   ]
  },
  {
   "cell_type": "code",
   "execution_count": 234,
   "id": "e1b41df0",
   "metadata": {},
   "outputs": [
    {
     "name": "stdout",
     "output_type": "stream",
     "text": [
      "<class 'pandas.core.frame.DataFrame'>\n",
      "RangeIndex: 23 entries, 0 to 22\n",
      "Data columns (total 6 columns):\n",
      " #   Column                 Non-Null Count  Dtype \n",
      "---  ------                 --------------  ----- \n",
      " 0   Provincia              23 non-null     object\n",
      " 1   IDH_2019               23 non-null     object\n",
      " 2   muertes_Tuberculosis   23 non-null     int64 \n",
      " 3   Pobreza_personas(%)    23 non-null     object\n",
      " 4   Año                    23 non-null     int64 \n",
      " 5   Pais                   23 non-null     object\n",
      "dtypes: int64(2), object(4)\n",
      "memory usage: 1.2+ KB\n"
     ]
    }
   ],
   "source": [
    "# data table\n",
    "import pandas as pd\n",
    "\n",
    "argData=os.path.join('data','base_datos_3_varl.xlsx')\n",
    "base_datos=pd.read_excel(argData,\n",
    "                     dtype={'Ubigeo': object})\n",
    "base_datos.info()\n",
    "#hasta ahora solo hemos trabajado con su geometria no con su data\n",
    "#tengo q hacer un merge: o sea meter la data dentro del poligono"
   ]
  },
  {
   "cell_type": "code",
   "execution_count": 235,
   "id": "4fd15a9d",
   "metadata": {},
   "outputs": [
    {
     "data": {
      "text/html": [
       "<div>\n",
       "<style scoped>\n",
       "    .dataframe tbody tr th:only-of-type {\n",
       "        vertical-align: middle;\n",
       "    }\n",
       "\n",
       "    .dataframe tbody tr th {\n",
       "        vertical-align: top;\n",
       "    }\n",
       "\n",
       "    .dataframe thead th {\n",
       "        text-align: right;\n",
       "    }\n",
       "</style>\n",
       "<table border=\"1\" class=\"dataframe\">\n",
       "  <thead>\n",
       "    <tr style=\"text-align: right;\">\n",
       "      <th></th>\n",
       "      <th>Provincia</th>\n",
       "      <th>IDH_2019</th>\n",
       "      <th>muertes_Tuberculosis</th>\n",
       "      <th>Pobreza_personas(%)</th>\n",
       "      <th>Año</th>\n",
       "      <th>Pais</th>\n",
       "    </tr>\n",
       "  </thead>\n",
       "  <tbody>\n",
       "    <tr>\n",
       "      <th>0</th>\n",
       "      <td>Ciudad Autónoma de Buenos Aires</td>\n",
       "      <td>0,882</td>\n",
       "      <td>28</td>\n",
       "      <td>1,3</td>\n",
       "      <td>2019</td>\n",
       "      <td>Argentina</td>\n",
       "    </tr>\n",
       "    <tr>\n",
       "      <th>1</th>\n",
       "      <td>Buenos Aires</td>\n",
       "      <td>0,842</td>\n",
       "      <td>209</td>\n",
       "      <td>11,3</td>\n",
       "      <td>2019</td>\n",
       "      <td>Argentina</td>\n",
       "    </tr>\n",
       "    <tr>\n",
       "      <th>2</th>\n",
       "      <td>Córdoba</td>\n",
       "      <td>0,858</td>\n",
       "      <td>19</td>\n",
       "      <td>7,9</td>\n",
       "      <td>2019</td>\n",
       "      <td>Argentina</td>\n",
       "    </tr>\n",
       "    <tr>\n",
       "      <th>3</th>\n",
       "      <td>Entre Ríos</td>\n",
       "      <td>0,836</td>\n",
       "      <td>5</td>\n",
       "      <td>3,4</td>\n",
       "      <td>2019</td>\n",
       "      <td>Argentina</td>\n",
       "    </tr>\n",
       "    <tr>\n",
       "      <th>4</th>\n",
       "      <td>Santa Fe</td>\n",
       "      <td>0,841</td>\n",
       "      <td>25</td>\n",
       "      <td>3,5</td>\n",
       "      <td>2019</td>\n",
       "      <td>Argentina</td>\n",
       "    </tr>\n",
       "  </tbody>\n",
       "</table>\n",
       "</div>"
      ],
      "text/plain": [
       "                         Provincia IDH_2019  muertes_Tuberculosis   \\\n",
       "0  Ciudad Autónoma de Buenos Aires    0,882                     28   \n",
       "1                     Buenos Aires    0,842                    209   \n",
       "2                          Córdoba    0,858                     19   \n",
       "3                       Entre Ríos    0,836                      5   \n",
       "4                         Santa Fe    0,841                     25   \n",
       "\n",
       "  Pobreza_personas(%)   Año       Pais  \n",
       "0                 1,3  2019  Argentina  \n",
       "1                11,3  2019  Argentina  \n",
       "2                 7,9  2019  Argentina  \n",
       "3                 3,4  2019  Argentina  \n",
       "4                 3,5  2019  Argentina  "
      ]
     },
     "execution_count": 235,
     "metadata": {},
     "output_type": "execute_result"
    }
   ],
   "source": [
    "base_datos.head()"
   ]
  },
  {
   "cell_type": "code",
   "execution_count": 236,
   "id": "000c0abf",
   "metadata": {},
   "outputs": [
    {
     "data": {
      "text/html": [
       "<div>\n",
       "<style scoped>\n",
       "    .dataframe tbody tr th:only-of-type {\n",
       "        vertical-align: middle;\n",
       "    }\n",
       "\n",
       "    .dataframe tbody tr th {\n",
       "        vertical-align: top;\n",
       "    }\n",
       "\n",
       "    .dataframe thead th {\n",
       "        text-align: right;\n",
       "    }\n",
       "</style>\n",
       "<table border=\"1\" class=\"dataframe\">\n",
       "  <thead>\n",
       "    <tr style=\"text-align: right;\">\n",
       "      <th></th>\n",
       "      <th>Provincia</th>\n",
       "      <th>IDH_2019</th>\n",
       "      <th>muertes_Tuberculosis</th>\n",
       "      <th>Pobreza_porcentaje</th>\n",
       "      <th>Año</th>\n",
       "      <th>Pais</th>\n",
       "    </tr>\n",
       "  </thead>\n",
       "  <tbody>\n",
       "    <tr>\n",
       "      <th>0</th>\n",
       "      <td>Ciudad Autónoma de Buenos Aires</td>\n",
       "      <td>0,882</td>\n",
       "      <td>28</td>\n",
       "      <td>1,3</td>\n",
       "      <td>2019</td>\n",
       "      <td>Argentina</td>\n",
       "    </tr>\n",
       "    <tr>\n",
       "      <th>1</th>\n",
       "      <td>Buenos Aires</td>\n",
       "      <td>0,842</td>\n",
       "      <td>209</td>\n",
       "      <td>11,3</td>\n",
       "      <td>2019</td>\n",
       "      <td>Argentina</td>\n",
       "    </tr>\n",
       "    <tr>\n",
       "      <th>2</th>\n",
       "      <td>Córdoba</td>\n",
       "      <td>0,858</td>\n",
       "      <td>19</td>\n",
       "      <td>7,9</td>\n",
       "      <td>2019</td>\n",
       "      <td>Argentina</td>\n",
       "    </tr>\n",
       "    <tr>\n",
       "      <th>3</th>\n",
       "      <td>Entre Ríos</td>\n",
       "      <td>0,836</td>\n",
       "      <td>5</td>\n",
       "      <td>3,4</td>\n",
       "      <td>2019</td>\n",
       "      <td>Argentina</td>\n",
       "    </tr>\n",
       "    <tr>\n",
       "      <th>4</th>\n",
       "      <td>Santa Fe</td>\n",
       "      <td>0,841</td>\n",
       "      <td>25</td>\n",
       "      <td>3,5</td>\n",
       "      <td>2019</td>\n",
       "      <td>Argentina</td>\n",
       "    </tr>\n",
       "  </tbody>\n",
       "</table>\n",
       "</div>"
      ],
      "text/plain": [
       "                         Provincia IDH_2019  muertes_Tuberculosis   \\\n",
       "0  Ciudad Autónoma de Buenos Aires    0,882                     28   \n",
       "1                     Buenos Aires    0,842                    209   \n",
       "2                          Córdoba    0,858                     19   \n",
       "3                       Entre Ríos    0,836                      5   \n",
       "4                         Santa Fe    0,841                     25   \n",
       "\n",
       "  Pobreza_porcentaje   Año       Pais  \n",
       "0                1,3  2019  Argentina  \n",
       "1               11,3  2019  Argentina  \n",
       "2                7,9  2019  Argentina  \n",
       "3                3,4  2019  Argentina  \n",
       "4                3,5  2019  Argentina  "
      ]
     },
     "execution_count": 236,
     "metadata": {},
     "output_type": "execute_result"
    }
   ],
   "source": [
    "base_datos.rename(columns={'Pobreza_personas(%)':'Pobreza_porcentaje'},inplace=True)\n",
    "base_datos.head()"
   ]
  },
  {
   "cell_type": "code",
   "execution_count": 237,
   "id": "9775c08f",
   "metadata": {},
   "outputs": [
    {
     "data": {
      "text/html": [
       "<div>\n",
       "<style scoped>\n",
       "    .dataframe tbody tr th:only-of-type {\n",
       "        vertical-align: middle;\n",
       "    }\n",
       "\n",
       "    .dataframe tbody tr th {\n",
       "        vertical-align: top;\n",
       "    }\n",
       "\n",
       "    .dataframe thead th {\n",
       "        text-align: right;\n",
       "    }\n",
       "</style>\n",
       "<table border=\"1\" class=\"dataframe\">\n",
       "  <thead>\n",
       "    <tr style=\"text-align: right;\">\n",
       "      <th></th>\n",
       "      <th>ADM0_ES</th>\n",
       "      <th>ADM0_PCODE</th>\n",
       "      <th>ADM1_ES</th>\n",
       "      <th>ADM1_PCODE</th>\n",
       "      <th>geometry</th>\n",
       "    </tr>\n",
       "  </thead>\n",
       "  <tbody>\n",
       "    <tr>\n",
       "      <th>0</th>\n",
       "      <td>Argentina</td>\n",
       "      <td>AR</td>\n",
       "      <td>Buenos Aires</td>\n",
       "      <td>AR006</td>\n",
       "      <td>MULTIPOLYGON Z (((2335919.444 5475450.748 0.00...</td>\n",
       "    </tr>\n",
       "    <tr>\n",
       "      <th>1</th>\n",
       "      <td>Argentina</td>\n",
       "      <td>AR</td>\n",
       "      <td>Catamarca</td>\n",
       "      <td>AR010</td>\n",
       "      <td>POLYGON Z ((1906189.076 7204695.456 0.000, 191...</td>\n",
       "    </tr>\n",
       "    <tr>\n",
       "      <th>2</th>\n",
       "      <td>Argentina</td>\n",
       "      <td>AR</td>\n",
       "      <td>Chaco</td>\n",
       "      <td>AR022</td>\n",
       "      <td>POLYGON Z ((2494292.791 7296258.081 0.000, 249...</td>\n",
       "    </tr>\n",
       "    <tr>\n",
       "      <th>3</th>\n",
       "      <td>Argentina</td>\n",
       "      <td>AR</td>\n",
       "      <td>Chubut</td>\n",
       "      <td>AR026</td>\n",
       "      <td>MULTIPOLYGON Z (((1916196.919 4975824.860 0.00...</td>\n",
       "    </tr>\n",
       "    <tr>\n",
       "      <th>4</th>\n",
       "      <td>Argentina</td>\n",
       "      <td>AR</td>\n",
       "      <td>Ciudad de Buenos Aires</td>\n",
       "      <td>AR002</td>\n",
       "      <td>POLYGON Z ((2747577.276 6094399.410 0.000, 274...</td>\n",
       "    </tr>\n",
       "  </tbody>\n",
       "</table>\n",
       "</div>"
      ],
      "text/plain": [
       "     ADM0_ES ADM0_PCODE                 ADM1_ES ADM1_PCODE  \\\n",
       "0  Argentina         AR            Buenos Aires      AR006   \n",
       "1  Argentina         AR               Catamarca      AR010   \n",
       "2  Argentina         AR                   Chaco      AR022   \n",
       "3  Argentina         AR                  Chubut      AR026   \n",
       "4  Argentina         AR  Ciudad de Buenos Aires      AR002   \n",
       "\n",
       "                                            geometry  \n",
       "0  MULTIPOLYGON Z (((2335919.444 5475450.748 0.00...  \n",
       "1  POLYGON Z ((1906189.076 7204695.456 0.000, 191...  \n",
       "2  POLYGON Z ((2494292.791 7296258.081 0.000, 249...  \n",
       "3  MULTIPOLYGON Z (((1916196.919 4975824.860 0.00...  \n",
       "4  POLYGON Z ((2747577.276 6094399.410 0.000, 274...  "
      ]
     },
     "execution_count": 237,
     "metadata": {},
     "output_type": "execute_result"
    }
   ],
   "source": [
    "# map\n",
    "#import geopandas as gpd\n",
    "\n",
    "#peruDataDist=os.path.join('miningGDF',\"maps\",\"DistritosMap.zip\")\n",
    "\n",
    "#datadismap=gpd.read_file(peruDataDist)\n",
    "\n",
    "states.head()"
   ]
  },
  {
   "cell_type": "code",
   "execution_count": 238,
   "id": "c68fa3ca",
   "metadata": {},
   "outputs": [
    {
     "data": {
      "text/html": [
       "<div>\n",
       "<style scoped>\n",
       "    .dataframe tbody tr th:only-of-type {\n",
       "        vertical-align: middle;\n",
       "    }\n",
       "\n",
       "    .dataframe tbody tr th {\n",
       "        vertical-align: top;\n",
       "    }\n",
       "\n",
       "    .dataframe thead th {\n",
       "        text-align: right;\n",
       "    }\n",
       "</style>\n",
       "<table border=\"1\" class=\"dataframe\">\n",
       "  <thead>\n",
       "    <tr style=\"text-align: right;\">\n",
       "      <th></th>\n",
       "      <th>Pais</th>\n",
       "      <th>ADM0_PCODE</th>\n",
       "      <th>Provincia</th>\n",
       "      <th>ADM1_PCODE</th>\n",
       "      <th>geometry</th>\n",
       "    </tr>\n",
       "  </thead>\n",
       "  <tbody>\n",
       "    <tr>\n",
       "      <th>0</th>\n",
       "      <td>Argentina</td>\n",
       "      <td>AR</td>\n",
       "      <td>Buenos Aires</td>\n",
       "      <td>AR006</td>\n",
       "      <td>MULTIPOLYGON Z (((2335919.444 5475450.748 0.00...</td>\n",
       "    </tr>\n",
       "    <tr>\n",
       "      <th>1</th>\n",
       "      <td>Argentina</td>\n",
       "      <td>AR</td>\n",
       "      <td>Catamarca</td>\n",
       "      <td>AR010</td>\n",
       "      <td>POLYGON Z ((1906189.076 7204695.456 0.000, 191...</td>\n",
       "    </tr>\n",
       "    <tr>\n",
       "      <th>2</th>\n",
       "      <td>Argentina</td>\n",
       "      <td>AR</td>\n",
       "      <td>Chaco</td>\n",
       "      <td>AR022</td>\n",
       "      <td>POLYGON Z ((2494292.791 7296258.081 0.000, 249...</td>\n",
       "    </tr>\n",
       "    <tr>\n",
       "      <th>3</th>\n",
       "      <td>Argentina</td>\n",
       "      <td>AR</td>\n",
       "      <td>Chubut</td>\n",
       "      <td>AR026</td>\n",
       "      <td>MULTIPOLYGON Z (((1916196.919 4975824.860 0.00...</td>\n",
       "    </tr>\n",
       "    <tr>\n",
       "      <th>4</th>\n",
       "      <td>Argentina</td>\n",
       "      <td>AR</td>\n",
       "      <td>Ciudad de Buenos Aires</td>\n",
       "      <td>AR002</td>\n",
       "      <td>POLYGON Z ((2747577.276 6094399.410 0.000, 274...</td>\n",
       "    </tr>\n",
       "  </tbody>\n",
       "</table>\n",
       "</div>"
      ],
      "text/plain": [
       "        Pais ADM0_PCODE               Provincia ADM1_PCODE  \\\n",
       "0  Argentina         AR            Buenos Aires      AR006   \n",
       "1  Argentina         AR               Catamarca      AR010   \n",
       "2  Argentina         AR                   Chaco      AR022   \n",
       "3  Argentina         AR                  Chubut      AR026   \n",
       "4  Argentina         AR  Ciudad de Buenos Aires      AR002   \n",
       "\n",
       "                                            geometry  \n",
       "0  MULTIPOLYGON Z (((2335919.444 5475450.748 0.00...  \n",
       "1  POLYGON Z ((1906189.076 7204695.456 0.000, 191...  \n",
       "2  POLYGON Z ((2494292.791 7296258.081 0.000, 249...  \n",
       "3  MULTIPOLYGON Z (((1916196.919 4975824.860 0.00...  \n",
       "4  POLYGON Z ((2747577.276 6094399.410 0.000, 274...  "
      ]
     },
     "execution_count": 238,
     "metadata": {},
     "output_type": "execute_result"
    }
   ],
   "source": [
    "#rename\n",
    "states.rename(columns={'ADM1_ES':'Provincia', 'ADM0_ES':'Pais'},inplace=True)\n",
    "states.head()"
   ]
  },
  {
   "cell_type": "code",
   "execution_count": 239,
   "id": "3a4984a9",
   "metadata": {},
   "outputs": [
    {
     "data": {
      "text/html": [
       "<div>\n",
       "<style scoped>\n",
       "    .dataframe tbody tr th:only-of-type {\n",
       "        vertical-align: middle;\n",
       "    }\n",
       "\n",
       "    .dataframe tbody tr th {\n",
       "        vertical-align: top;\n",
       "    }\n",
       "\n",
       "    .dataframe thead th {\n",
       "        text-align: right;\n",
       "    }\n",
       "</style>\n",
       "<table border=\"1\" class=\"dataframe\">\n",
       "  <thead>\n",
       "    <tr style=\"text-align: right;\">\n",
       "      <th></th>\n",
       "      <th>Provincia</th>\n",
       "      <th>geometry</th>\n",
       "      <th>Pais</th>\n",
       "    </tr>\n",
       "  </thead>\n",
       "  <tbody>\n",
       "    <tr>\n",
       "      <th>0</th>\n",
       "      <td>Buenos Aires</td>\n",
       "      <td>MULTIPOLYGON Z (((2335919.444 5475450.748 0.00...</td>\n",
       "      <td>Argentina</td>\n",
       "    </tr>\n",
       "    <tr>\n",
       "      <th>1</th>\n",
       "      <td>Catamarca</td>\n",
       "      <td>POLYGON Z ((1906189.076 7204695.456 0.000, 191...</td>\n",
       "      <td>Argentina</td>\n",
       "    </tr>\n",
       "    <tr>\n",
       "      <th>2</th>\n",
       "      <td>Chaco</td>\n",
       "      <td>POLYGON Z ((2494292.791 7296258.081 0.000, 249...</td>\n",
       "      <td>Argentina</td>\n",
       "    </tr>\n",
       "    <tr>\n",
       "      <th>3</th>\n",
       "      <td>Chubut</td>\n",
       "      <td>MULTIPOLYGON Z (((1916196.919 4975824.860 0.00...</td>\n",
       "      <td>Argentina</td>\n",
       "    </tr>\n",
       "    <tr>\n",
       "      <th>4</th>\n",
       "      <td>Ciudad de Buenos Aires</td>\n",
       "      <td>POLYGON Z ((2747577.276 6094399.410 0.000, 274...</td>\n",
       "      <td>Argentina</td>\n",
       "    </tr>\n",
       "    <tr>\n",
       "      <th>5</th>\n",
       "      <td>Córdoba</td>\n",
       "      <td>POLYGON Z ((2288373.932 6695803.079 0.000, 228...</td>\n",
       "      <td>Argentina</td>\n",
       "    </tr>\n",
       "    <tr>\n",
       "      <th>6</th>\n",
       "      <td>Corrientes</td>\n",
       "      <td>MULTIPOLYGON Z (((3004612.053 6855238.635 0.00...</td>\n",
       "      <td>Argentina</td>\n",
       "    </tr>\n",
       "    <tr>\n",
       "      <th>7</th>\n",
       "      <td>Entre Ríos</td>\n",
       "      <td>POLYGON Z ((2798505.825 6586816.825 0.000, 279...</td>\n",
       "      <td>Argentina</td>\n",
       "    </tr>\n",
       "    <tr>\n",
       "      <th>8</th>\n",
       "      <td>Formosa</td>\n",
       "      <td>POLYGON Z ((2497424.367 7484757.793 0.000, 249...</td>\n",
       "      <td>Argentina</td>\n",
       "    </tr>\n",
       "    <tr>\n",
       "      <th>9</th>\n",
       "      <td>Jujuy</td>\n",
       "      <td>POLYGON Z ((2098377.586 7581146.835 0.000, 210...</td>\n",
       "      <td>Argentina</td>\n",
       "    </tr>\n",
       "    <tr>\n",
       "      <th>10</th>\n",
       "      <td>La Pampa</td>\n",
       "      <td>POLYGON Z ((2188602.680 6101304.588 0.000, 219...</td>\n",
       "      <td>Argentina</td>\n",
       "    </tr>\n",
       "    <tr>\n",
       "      <th>11</th>\n",
       "      <td>La Rioja</td>\n",
       "      <td>POLYGON Z ((1842905.218 6918621.830 0.000, 184...</td>\n",
       "      <td>Argentina</td>\n",
       "    </tr>\n",
       "    <tr>\n",
       "      <th>12</th>\n",
       "      <td>Mendoza</td>\n",
       "      <td>POLYGON Z ((1771643.879 6456186.096 0.000, 177...</td>\n",
       "      <td>Argentina</td>\n",
       "    </tr>\n",
       "    <tr>\n",
       "      <th>13</th>\n",
       "      <td>Misiones</td>\n",
       "      <td>MULTIPOLYGON Z (((3095005.586 6872963.019 0.00...</td>\n",
       "      <td>Argentina</td>\n",
       "    </tr>\n",
       "    <tr>\n",
       "      <th>14</th>\n",
       "      <td>Neuquén</td>\n",
       "      <td>POLYGON Z ((1644565.805 5998409.218 0.000, 164...</td>\n",
       "      <td>Argentina</td>\n",
       "    </tr>\n",
       "    <tr>\n",
       "      <th>15</th>\n",
       "      <td>Río negro</td>\n",
       "      <td>MULTIPOLYGON Z (((2110903.688 5460168.313 0.00...</td>\n",
       "      <td>Argentina</td>\n",
       "    </tr>\n",
       "    <tr>\n",
       "      <th>16</th>\n",
       "      <td>Salta</td>\n",
       "      <td>POLYGON Z ((2451820.395 7539541.582 0.000, 245...</td>\n",
       "      <td>Argentina</td>\n",
       "    </tr>\n",
       "    <tr>\n",
       "      <th>17</th>\n",
       "      <td>San Juan</td>\n",
       "      <td>POLYGON Z ((1734160.435 6855329.798 0.000, 173...</td>\n",
       "      <td>Argentina</td>\n",
       "    </tr>\n",
       "    <tr>\n",
       "      <th>18</th>\n",
       "      <td>San Luis</td>\n",
       "      <td>POLYGON Z ((1968211.713 6465395.769 0.000, 196...</td>\n",
       "      <td>Argentina</td>\n",
       "    </tr>\n",
       "    <tr>\n",
       "      <th>19</th>\n",
       "      <td>Santa Cruz</td>\n",
       "      <td>MULTIPOLYGON Z (((1681041.738 4336736.817 0.00...</td>\n",
       "      <td>Argentina</td>\n",
       "    </tr>\n",
       "    <tr>\n",
       "      <th>20</th>\n",
       "      <td>Santa Fe</td>\n",
       "      <td>POLYGON Z ((2663631.362 6846895.383 0.000, 270...</td>\n",
       "      <td>Argentina</td>\n",
       "    </tr>\n",
       "    <tr>\n",
       "      <th>21</th>\n",
       "      <td>Santiago del Estero</td>\n",
       "      <td>POLYGON Z ((2502694.378 7125547.160 0.000, 250...</td>\n",
       "      <td>Argentina</td>\n",
       "    </tr>\n",
       "    <tr>\n",
       "      <th>22</th>\n",
       "      <td>Tierra del Fuego</td>\n",
       "      <td>MULTIPOLYGON Z (((1848191.934 3884066.663 0.00...</td>\n",
       "      <td>Argentina</td>\n",
       "    </tr>\n",
       "    <tr>\n",
       "      <th>23</th>\n",
       "      <td>Tucumán</td>\n",
       "      <td>POLYGON Z ((2165451.970 7101554.297 0.000, 216...</td>\n",
       "      <td>Argentina</td>\n",
       "    </tr>\n",
       "  </tbody>\n",
       "</table>\n",
       "</div>"
      ],
      "text/plain": [
       "                 Provincia                                           geometry  \\\n",
       "0             Buenos Aires  MULTIPOLYGON Z (((2335919.444 5475450.748 0.00...   \n",
       "1                Catamarca  POLYGON Z ((1906189.076 7204695.456 0.000, 191...   \n",
       "2                    Chaco  POLYGON Z ((2494292.791 7296258.081 0.000, 249...   \n",
       "3                   Chubut  MULTIPOLYGON Z (((1916196.919 4975824.860 0.00...   \n",
       "4   Ciudad de Buenos Aires  POLYGON Z ((2747577.276 6094399.410 0.000, 274...   \n",
       "5                  Córdoba  POLYGON Z ((2288373.932 6695803.079 0.000, 228...   \n",
       "6               Corrientes  MULTIPOLYGON Z (((3004612.053 6855238.635 0.00...   \n",
       "7               Entre Ríos  POLYGON Z ((2798505.825 6586816.825 0.000, 279...   \n",
       "8                  Formosa  POLYGON Z ((2497424.367 7484757.793 0.000, 249...   \n",
       "9                    Jujuy  POLYGON Z ((2098377.586 7581146.835 0.000, 210...   \n",
       "10                La Pampa  POLYGON Z ((2188602.680 6101304.588 0.000, 219...   \n",
       "11                La Rioja  POLYGON Z ((1842905.218 6918621.830 0.000, 184...   \n",
       "12                 Mendoza  POLYGON Z ((1771643.879 6456186.096 0.000, 177...   \n",
       "13                Misiones  MULTIPOLYGON Z (((3095005.586 6872963.019 0.00...   \n",
       "14                 Neuquén  POLYGON Z ((1644565.805 5998409.218 0.000, 164...   \n",
       "15               Río negro  MULTIPOLYGON Z (((2110903.688 5460168.313 0.00...   \n",
       "16                   Salta  POLYGON Z ((2451820.395 7539541.582 0.000, 245...   \n",
       "17                San Juan  POLYGON Z ((1734160.435 6855329.798 0.000, 173...   \n",
       "18                San Luis  POLYGON Z ((1968211.713 6465395.769 0.000, 196...   \n",
       "19              Santa Cruz  MULTIPOLYGON Z (((1681041.738 4336736.817 0.00...   \n",
       "20                Santa Fe  POLYGON Z ((2663631.362 6846895.383 0.000, 270...   \n",
       "21     Santiago del Estero  POLYGON Z ((2502694.378 7125547.160 0.000, 250...   \n",
       "22        Tierra del Fuego  MULTIPOLYGON Z (((1848191.934 3884066.663 0.00...   \n",
       "23                 Tucumán  POLYGON Z ((2165451.970 7101554.297 0.000, 216...   \n",
       "\n",
       "         Pais  \n",
       "0   Argentina  \n",
       "1   Argentina  \n",
       "2   Argentina  \n",
       "3   Argentina  \n",
       "4   Argentina  \n",
       "5   Argentina  \n",
       "6   Argentina  \n",
       "7   Argentina  \n",
       "8   Argentina  \n",
       "9   Argentina  \n",
       "10  Argentina  \n",
       "11  Argentina  \n",
       "12  Argentina  \n",
       "13  Argentina  \n",
       "14  Argentina  \n",
       "15  Argentina  \n",
       "16  Argentina  \n",
       "17  Argentina  \n",
       "18  Argentina  \n",
       "19  Argentina  \n",
       "20  Argentina  \n",
       "21  Argentina  \n",
       "22  Argentina  \n",
       "23  Argentina  "
      ]
     },
     "execution_count": 239,
     "metadata": {},
     "output_type": "execute_result"
    }
   ],
   "source": [
    "provinciasGDF = states.loc[:,['Provincia','geometry', 'Pais']]\n",
    "provinciasGDF"
   ]
  },
  {
   "cell_type": "code",
   "execution_count": 240,
   "id": "2f0bf94e",
   "metadata": {},
   "outputs": [],
   "source": [
    "# all capitals, no empty spaces before or after.\n",
    "\n",
    "capitalizeColumns=lambda x: x.str.upper().str.strip()\n",
    "base_datos[['Provincia']]=base_datos[['Provincia']].apply(capitalizeColumns)\n",
    "provinciasGDF[['Provincia']]=provinciasGDF[['Provincia']].apply(capitalizeColumns)"
   ]
  },
  {
   "cell_type": "code",
   "execution_count": 241,
   "id": "b5fe0d4e",
   "metadata": {},
   "outputs": [
    {
     "name": "stdout",
     "output_type": "stream",
     "text": [
      "Defaulting to user installation because normal site-packages is not writeable\n",
      "Requirement already satisfied: unidecode in c:\\users\\edgar ramos castro\\appdata\\roaming\\python\\python311\\site-packages (1.3.6)\n"
     ]
    }
   ],
   "source": [
    "!pip install unidecode"
   ]
  },
  {
   "cell_type": "code",
   "execution_count": 242,
   "id": "4fb5369b",
   "metadata": {},
   "outputs": [],
   "source": [
    "import unidecode\n",
    "\n",
    "\n",
    "byePunctuation=lambda x: unidecode.unidecode(x)\n",
    "base_datos[['Provincia']]=base_datos[['Provincia']].applymap(byePunctuation)  #applymap for olderpandas para colab\n",
    "provinciasGDF[['Provincia']]=provinciasGDF[['Provincia']].applymap(byePunctuation) #applymap for olderpandas"
   ]
  },
  {
   "cell_type": "code",
   "execution_count": 243,
   "id": "6f710470",
   "metadata": {},
   "outputs": [],
   "source": [
    "#encontrenmos los que nos coinciden\n",
    "nomatch_df=set(base_datos.Provincia)- set(provinciasGDF.Provincia)\n",
    "nomatch_gdf=set(provinciasGDF.Provincia)-set(base_datos.Provincia) "
   ]
  },
  {
   "cell_type": "code",
   "execution_count": 244,
   "id": "ddac0e2d",
   "metadata": {},
   "outputs": [
    {
     "data": {
      "text/plain": [
       "(1, 2)"
      ]
     },
     "execution_count": 244,
     "metadata": {},
     "output_type": "execute_result"
    }
   ],
   "source": [
    "len(nomatch_df), len(nomatch_gdf)"
   ]
  },
  {
   "cell_type": "code",
   "execution_count": 245,
   "id": "961c1821",
   "metadata": {},
   "outputs": [
    {
     "data": {
      "text/plain": [
       "[('CIUDAD AUTONOMA DE BUENOS AIRES', ('CIUDAD DE BUENOS AIRES', 95))]"
      ]
     },
     "execution_count": 245,
     "metadata": {},
     "output_type": "execute_result"
    }
   ],
   "source": [
    "# pick the closest match from nomatch_gdf for a value in nomatch_df\n",
    "from thefuzz import process\n",
    "[(dis,process.extractOne(dis,nomatch_gdf)) for dis in sorted(nomatch_df)]\n",
    "#noto que no hay nada q ambiar a mano entonces creo mi diccionario"
   ]
  },
  {
   "cell_type": "code",
   "execution_count": 246,
   "id": "90652459",
   "metadata": {},
   "outputs": [
    {
     "data": {
      "text/plain": [
       "{'CIUDAD AUTONOMA DE BUENOS AIRES': 'CIUDAD DE BUENOS AIRES'}"
      ]
     },
     "execution_count": 246,
     "metadata": {},
     "output_type": "execute_result"
    }
   ],
   "source": [
    "{dis:process.extractOne(dis,nomatch_gdf)[0] for dis in sorted(nomatch_df)}"
   ]
  },
  {
   "cell_type": "code",
   "execution_count": 247,
   "id": "be43cb1f",
   "metadata": {},
   "outputs": [
    {
     "data": {
      "text/plain": [
       "{'CIUDAD AUTONOMA DE BUENOS AIRES': 'CIUDAD DE BUENOS AIRES'}"
      ]
     },
     "execution_count": 247,
     "metadata": {},
     "output_type": "execute_result"
    }
   ],
   "source": [
    "# then:\n",
    "changesDis_df={dis:process.extractOne(dis,nomatch_gdf)[0] for dis in sorted(nomatch_df)}\n",
    "changesDis_df"
   ]
  },
  {
   "cell_type": "code",
   "execution_count": 248,
   "id": "860c08a4",
   "metadata": {},
   "outputs": [],
   "source": [
    "datadis.Provincia.replace(changesDis_df,inplace=True)"
   ]
  },
  {
   "cell_type": "code",
   "execution_count": 249,
   "id": "93caed8b",
   "metadata": {},
   "outputs": [
    {
     "name": "stdout",
     "output_type": "stream",
     "text": [
      "<class 'geopandas.geodataframe.GeoDataFrame'>\n",
      "RangeIndex: 22 entries, 0 to 21\n",
      "Data columns (total 8 columns):\n",
      " #   Column                 Non-Null Count  Dtype   \n",
      "---  ------                 --------------  -----   \n",
      " 0   Provincia              22 non-null     object  \n",
      " 1   geometry               22 non-null     geometry\n",
      " 2   Pais_x                 22 non-null     object  \n",
      " 3   IDH_2019               22 non-null     object  \n",
      " 4   muertes_Tuberculosis   22 non-null     int64   \n",
      " 5   Pobreza_porcentaje     22 non-null     object  \n",
      " 6   Año                    22 non-null     int64   \n",
      " 7   Pais_y                 22 non-null     object  \n",
      "dtypes: geometry(1), int64(2), object(5)\n",
      "memory usage: 1.5+ KB\n"
     ]
    }
   ],
   "source": [
    "provinciasGDF2=provinciasGDF.merge(base_datos, on='Provincia')\n",
    "# check\n",
    "provinciasGDF2.info()"
   ]
  },
  {
   "cell_type": "code",
   "execution_count": 250,
   "id": "ac3c317a",
   "metadata": {},
   "outputs": [
    {
     "data": {
      "text/html": [
       "<div>\n",
       "<style scoped>\n",
       "    .dataframe tbody tr th:only-of-type {\n",
       "        vertical-align: middle;\n",
       "    }\n",
       "\n",
       "    .dataframe tbody tr th {\n",
       "        vertical-align: top;\n",
       "    }\n",
       "\n",
       "    .dataframe thead th {\n",
       "        text-align: right;\n",
       "    }\n",
       "</style>\n",
       "<table border=\"1\" class=\"dataframe\">\n",
       "  <thead>\n",
       "    <tr style=\"text-align: right;\">\n",
       "      <th></th>\n",
       "      <th>Provincia</th>\n",
       "      <th>geometry</th>\n",
       "      <th>Pais</th>\n",
       "      <th>IDH_2019</th>\n",
       "      <th>muertes_Tuberculosis</th>\n",
       "      <th>Pobreza_porcentaje</th>\n",
       "    </tr>\n",
       "  </thead>\n",
       "  <tbody>\n",
       "    <tr>\n",
       "      <th>0</th>\n",
       "      <td>BUENOS AIRES</td>\n",
       "      <td>MULTIPOLYGON Z (((2335919.444 5475450.748 0.00...</td>\n",
       "      <td>Argentina</td>\n",
       "      <td>0,842</td>\n",
       "      <td>209</td>\n",
       "      <td>11,3</td>\n",
       "    </tr>\n",
       "    <tr>\n",
       "      <th>1</th>\n",
       "      <td>CATAMARCA</td>\n",
       "      <td>POLYGON Z ((1906189.076 7204695.456 0.000, 191...</td>\n",
       "      <td>Argentina</td>\n",
       "      <td>0,844</td>\n",
       "      <td>2</td>\n",
       "      <td>6,8</td>\n",
       "    </tr>\n",
       "    <tr>\n",
       "      <th>2</th>\n",
       "      <td>CHACO</td>\n",
       "      <td>POLYGON Z ((2494292.791 7296258.081 0.000, 249...</td>\n",
       "      <td>Argentina</td>\n",
       "      <td>0,808</td>\n",
       "      <td>7</td>\n",
       "      <td>4,4</td>\n",
       "    </tr>\n",
       "    <tr>\n",
       "      <th>3</th>\n",
       "      <td>CHUBUT</td>\n",
       "      <td>MULTIPOLYGON Z (((1916196.919 4975824.860 0.00...</td>\n",
       "      <td>Argentina</td>\n",
       "      <td>0,858</td>\n",
       "      <td>9</td>\n",
       "      <td>7,6</td>\n",
       "    </tr>\n",
       "    <tr>\n",
       "      <th>4</th>\n",
       "      <td>CORDOBA</td>\n",
       "      <td>POLYGON Z ((2288373.932 6695803.079 0.000, 228...</td>\n",
       "      <td>Argentina</td>\n",
       "      <td>0,858</td>\n",
       "      <td>19</td>\n",
       "      <td>7,9</td>\n",
       "    </tr>\n",
       "  </tbody>\n",
       "</table>\n",
       "</div>"
      ],
      "text/plain": [
       "      Provincia                                           geometry       Pais  \\\n",
       "0  BUENOS AIRES  MULTIPOLYGON Z (((2335919.444 5475450.748 0.00...  Argentina   \n",
       "1     CATAMARCA  POLYGON Z ((1906189.076 7204695.456 0.000, 191...  Argentina   \n",
       "2         CHACO  POLYGON Z ((2494292.791 7296258.081 0.000, 249...  Argentina   \n",
       "3        CHUBUT  MULTIPOLYGON Z (((1916196.919 4975824.860 0.00...  Argentina   \n",
       "4       CORDOBA  POLYGON Z ((2288373.932 6695803.079 0.000, 228...  Argentina   \n",
       "\n",
       "  IDH_2019  muertes_Tuberculosis  Pobreza_porcentaje  \n",
       "0    0,842                    209               11,3  \n",
       "1    0,844                      2                6,8  \n",
       "2    0,808                      7                4,4  \n",
       "3    0,858                      9                7,6  \n",
       "4    0,858                     19                7,9  "
      ]
     },
     "execution_count": 250,
     "metadata": {},
     "output_type": "execute_result"
    }
   ],
   "source": [
    "bye=['Año','Pais_y']\n",
    "provinciasGDF2.drop(columns=bye,inplace=True)\n",
    "provinciasGDF2.rename(columns={'Pais_x':'Pais'},inplace=True)\n",
    "# keeping\n",
    "provinciasGDF2.head()"
   ]
  },
  {
   "cell_type": "code",
   "execution_count": 251,
   "id": "bb548e7e",
   "metadata": {},
   "outputs": [],
   "source": [
    "#provinciasGDF2= gpd.GeoDataFrame(provinciasGDF2, crs = 4326)\n",
    "#provinciasGDF21= provinciasGDF2.to_crs(22171)\n",
    "#type(provinciasGDF2)"
   ]
  },
  {
   "cell_type": "code",
   "execution_count": 252,
   "id": "ed344334",
   "metadata": {},
   "outputs": [],
   "source": [
    "#tablaMergeadas=states.merge(datadis, left_on='Provincia', right_on='Provincia')\n",
    "#tablaMergeadas"
   ]
  },
  {
   "cell_type": "code",
   "execution_count": 253,
   "id": "505a72cb",
   "metadata": {},
   "outputs": [],
   "source": [
    "#tablaMergeadas.info()"
   ]
  },
  {
   "cell_type": "code",
   "execution_count": 254,
   "id": "265d94ae",
   "metadata": {},
   "outputs": [],
   "source": [
    "#states.merge(datadis, left_on='Provincia', right_on='Provincia').shape"
   ]
  },
  {
   "cell_type": "code",
   "execution_count": 255,
   "id": "e17d8a13",
   "metadata": {},
   "outputs": [],
   "source": [
    "#datadis.Provincia"
   ]
  },
  {
   "cell_type": "code",
   "execution_count": 256,
   "id": "98385fc3",
   "metadata": {},
   "outputs": [],
   "source": [
    "#states.Provincia"
   ]
  },
  {
   "cell_type": "code",
   "execution_count": 257,
   "id": "51cdf48c",
   "metadata": {},
   "outputs": [],
   "source": [
    "#datadis.Provincia.duplicated().sum(),states.Provincia.duplicated().sum()"
   ]
  },
  {
   "cell_type": "code",
   "execution_count": 258,
   "id": "b70d753d",
   "metadata": {},
   "outputs": [],
   "source": [
    "# concatenating\n",
    "#datadis['provDist']=[\"+\".join(pd) for pd in zip (datadis.Provincia)]\n",
    "#datadismap['provDist']=[\"+\".join(pd) for pd in zip (datadismap.Provincia)]"
   ]
  },
  {
   "cell_type": "markdown",
   "id": "f7f97b8b",
   "metadata": {},
   "source": [
    "### Exercise 6\n",
    "\n",
    "<div class=\"alert-success\">\n",
    "    \n",
    "1. Choose a numeric variable from your merged data.\n",
    "2. Decide which is the  best classification scheme for that variable.\n",
    "3. Make a map for the best scheme.\n",
    "4. Make a histogram for the best scheme.\n",
    "</div>"
   ]
  },
  {
   "cell_type": "code",
   "execution_count": 262,
   "id": "74d3bf55",
   "metadata": {},
   "outputs": [
    {
     "data": {
      "text/plain": [
       "count        22\n",
       "unique       16\n",
       "top       0,842\n",
       "freq          2\n",
       "Name: IDH_2019, dtype: object"
      ]
     },
     "execution_count": 262,
     "metadata": {},
     "output_type": "execute_result"
    }
   ],
   "source": [
    "# statistics\n",
    "provinciasGDF2.IDH_2019.describe()"
   ]
  },
  {
   "cell_type": "code",
   "execution_count": 267,
   "id": "3976d455",
   "metadata": {},
   "outputs": [],
   "source": [
    "#IDH_2019_float=[float(variable) for variable in provinciasGDF2['IDH_2019']]"
   ]
  },
  {
   "cell_type": "code",
   "execution_count": 269,
   "id": "bea77530",
   "metadata": {},
   "outputs": [],
   "source": [
    "import re\n",
    "commaToDotP=lambda xString:float(re.sub(\",\",\".\",xString))\n",
    "#provinciasGDF2.IDH_2019.apply(commaToDotP)\n",
    "provinciasGDF2[['IDH_2019','Pobreza_porcentaje']]=provinciasGDF2.loc[:,['IDH_2019','Pobreza_porcentaje']].applymap(commaToDotP)"
   ]
  },
  {
   "cell_type": "code",
   "execution_count": 270,
   "id": "c2c0c168",
   "metadata": {},
   "outputs": [
    {
     "name": "stdout",
     "output_type": "stream",
     "text": [
      "<class 'geopandas.geodataframe.GeoDataFrame'>\n",
      "RangeIndex: 22 entries, 0 to 21\n",
      "Data columns (total 6 columns):\n",
      " #   Column                 Non-Null Count  Dtype   \n",
      "---  ------                 --------------  -----   \n",
      " 0   Provincia              22 non-null     object  \n",
      " 1   geometry               22 non-null     geometry\n",
      " 2   Pais                   22 non-null     object  \n",
      " 3   IDH_2019               22 non-null     float64 \n",
      " 4   muertes_Tuberculosis   22 non-null     int64   \n",
      " 5   Pobreza_porcentaje     22 non-null     float64 \n",
      "dtypes: float64(2), geometry(1), int64(1), object(2)\n",
      "memory usage: 1.2+ KB\n"
     ]
    }
   ],
   "source": [
    "provinciasGDF2.info()"
   ]
  },
  {
   "cell_type": "code",
   "execution_count": 213,
   "id": "27447aee",
   "metadata": {},
   "outputs": [
    {
     "name": "stdout",
     "output_type": "stream",
     "text": [
      "Defaulting to user installation because normal site-packages is not writeable\n",
      "Requirement already satisfied: seaborn in c:\\users\\edgar ramos castro\\appdata\\roaming\\python\\python311\\site-packages (0.13.0)\n",
      "Requirement already satisfied: numpy!=1.24.0,>=1.20 in c:\\programdata\\anaconda3\\envs\\sds_mi_ambiente_romina\\lib\\site-packages (from seaborn) (1.25.2)\n",
      "Requirement already satisfied: pandas>=1.2 in c:\\programdata\\anaconda3\\envs\\sds_mi_ambiente_romina\\lib\\site-packages (from seaborn) (2.0.3)\n",
      "Requirement already satisfied: matplotlib!=3.6.1,>=3.3 in c:\\programdata\\anaconda3\\envs\\sds_mi_ambiente_romina\\lib\\site-packages (from seaborn) (3.8.0)\n",
      "Requirement already satisfied: contourpy>=1.0.1 in c:\\programdata\\anaconda3\\envs\\sds_mi_ambiente_romina\\lib\\site-packages (from matplotlib!=3.6.1,>=3.3->seaborn) (1.1.1)\n",
      "Requirement already satisfied: cycler>=0.10 in c:\\programdata\\anaconda3\\envs\\sds_mi_ambiente_romina\\lib\\site-packages (from matplotlib!=3.6.1,>=3.3->seaborn) (0.12.1)\n",
      "Requirement already satisfied: fonttools>=4.22.0 in c:\\programdata\\anaconda3\\envs\\sds_mi_ambiente_romina\\lib\\site-packages (from matplotlib!=3.6.1,>=3.3->seaborn) (4.43.1)\n",
      "Requirement already satisfied: kiwisolver>=1.0.1 in c:\\programdata\\anaconda3\\envs\\sds_mi_ambiente_romina\\lib\\site-packages (from matplotlib!=3.6.1,>=3.3->seaborn) (1.4.5)\n",
      "Requirement already satisfied: packaging>=20.0 in c:\\programdata\\anaconda3\\envs\\sds_mi_ambiente_romina\\lib\\site-packages (from matplotlib!=3.6.1,>=3.3->seaborn) (23.0)\n",
      "Requirement already satisfied: pillow>=6.2.0 in c:\\programdata\\anaconda3\\envs\\sds_mi_ambiente_romina\\lib\\site-packages (from matplotlib!=3.6.1,>=3.3->seaborn) (9.4.0)\n",
      "Requirement already satisfied: pyparsing>=2.3.1 in c:\\programdata\\anaconda3\\envs\\sds_mi_ambiente_romina\\lib\\site-packages (from matplotlib!=3.6.1,>=3.3->seaborn) (3.1.1)\n",
      "Requirement already satisfied: python-dateutil>=2.7 in c:\\programdata\\anaconda3\\envs\\sds_mi_ambiente_romina\\lib\\site-packages (from matplotlib!=3.6.1,>=3.3->seaborn) (2.8.2)\n",
      "Requirement already satisfied: pytz>=2020.1 in c:\\programdata\\anaconda3\\envs\\sds_mi_ambiente_romina\\lib\\site-packages (from pandas>=1.2->seaborn) (2022.7)\n",
      "Requirement already satisfied: tzdata>=2022.1 in c:\\programdata\\anaconda3\\envs\\sds_mi_ambiente_romina\\lib\\site-packages (from pandas>=1.2->seaborn) (2023.3)\n",
      "Requirement already satisfied: six>=1.5 in c:\\programdata\\anaconda3\\envs\\sds_mi_ambiente_romina\\lib\\site-packages (from python-dateutil>=2.7->matplotlib!=3.6.1,>=3.3->seaborn) (1.16.0)\n"
     ]
    }
   ],
   "source": [
    "!pip install seaborn"
   ]
  },
  {
   "cell_type": "code",
   "execution_count": 280,
   "id": "e2f1aa19",
   "metadata": {},
   "outputs": [],
   "source": [
    "import mapclassify#esto no tien q ver con la data espacial ino cortes con la data numerica \n",
    "import numpy as np  #es uuna manera de decir equal interval\n",
    "\n",
    "np.random.seed(12345) # so we all get the same results!\n",
    "\n",
    "# let's try 5 intervals\n",
    "K=5\n",
    "theVar=provinciasGDF2['Pobreza_porcentaje']\n",
    "# same interval width, easy interpretation\n",
    "ei5 = mapclassify.EqualInterval(theVar, k=K)\n",
    "# same interval width based on standard deviation, easy - but not as the previous one, poor when high skewness\n",
    "msd = mapclassify.StdMean(theVar)\n",
    "# interval width varies, counts per interval are close, not easy to grasp, repeated values complicate cuts                                \n",
    "q5=mapclassify.Quantiles(theVar,k=K)\n",
    "\n",
    "# based on similarity, good for multimodal data \n",
    "mb5 = mapclassify.MaximumBreaks(theVar, k=K)\n",
    "# based on similarity, good for skewed data\n",
    "ht = mapclassify.HeadTailBreaks(theVar) # no K needed\n",
    "# based on similarity, optimizer\n",
    "fj5 = mapclassify.FisherJenks(theVar, k=K)\n",
    "# based on similarity, optimizer\n",
    "jc5 = mapclassify.JenksCaspall(theVar, k=K)\n",
    "# based on similarity, optimizer\n",
    "mp5 = mapclassify.MaxP(theVar, k=K)\n",
    "#para calcular el error"
   ]
  },
  {
   "cell_type": "code",
   "execution_count": 271,
   "id": "ef2f6e02",
   "metadata": {},
   "outputs": [
    {
     "name": "stderr",
     "output_type": "stream",
     "text": [
      "C:\\ProgramData\\anaconda3\\envs\\SDS_Mi_ambiente_Romina\\Lib\\site-packages\\IPython\\core\\interactiveshell.py:3508: UserWarning: Numba not installed. Using slow pure python version.\n",
      "  exec(code_obj, self.user_global_ns, self.user_ns)\n"
     ]
    }
   ],
   "source": [
    "# Probaremos hacer 6 intervalos\n",
    "import mapclassify#esto no tien q ver con la data espacial ino cortes con la data numerica \n",
    "import numpy as np  #es uuna manera de decir equal interval\n",
    "\n",
    "np.random.seed(12345) # so we all get the same results!\n",
    "K=5\n",
    "variable=provinciasGDF2['Pobreza_porcentaje']\n",
    "ei6 = mapclassify.EqualInterval(variable, k=K)\n",
    "msd = mapclassify.StdMean(variable)                             \n",
    "q6=mapclassify.Quantiles(variable,k=K)\n",
    "mb6 = mapclassify.MaximumBreaks(variable, k=K)\n",
    "ht = mapclassify.HeadTailBreaks(variable)\n",
    "fj6 = mapclassify.FisherJenks(variable, k=K)\n",
    "jc6 = mapclassify.JenksCaspall(variable, k=K)\n",
    "mp6 = mapclassify.MaxP(variable, k=K)"
   ]
  },
  {
   "cell_type": "code",
   "execution_count": 281,
   "id": "e87dc77b",
   "metadata": {},
   "outputs": [
    {
     "data": {
      "text/html": [
       "<div>\n",
       "<style scoped>\n",
       "    .dataframe tbody tr th:only-of-type {\n",
       "        vertical-align: middle;\n",
       "    }\n",
       "\n",
       "    .dataframe tbody tr th {\n",
       "        vertical-align: top;\n",
       "    }\n",
       "\n",
       "    .dataframe thead th {\n",
       "        text-align: right;\n",
       "    }\n",
       "</style>\n",
       "<table border=\"1\" class=\"dataframe\">\n",
       "  <thead>\n",
       "    <tr style=\"text-align: right;\">\n",
       "      <th></th>\n",
       "      <th>ADCM</th>\n",
       "      <th>Classifier</th>\n",
       "    </tr>\n",
       "  </thead>\n",
       "  <tbody>\n",
       "    <tr>\n",
       "      <th>0</th>\n",
       "      <td>12.7</td>\n",
       "      <td>Quantiles</td>\n",
       "    </tr>\n",
       "    <tr>\n",
       "      <th>1</th>\n",
       "      <td>8.6</td>\n",
       "      <td>EqualInterval</td>\n",
       "    </tr>\n",
       "    <tr>\n",
       "      <th>2</th>\n",
       "      <td>16.9</td>\n",
       "      <td>StdMean</td>\n",
       "    </tr>\n",
       "    <tr>\n",
       "      <th>3</th>\n",
       "      <td>13.6</td>\n",
       "      <td>HeadTailBreaks</td>\n",
       "    </tr>\n",
       "    <tr>\n",
       "      <th>4</th>\n",
       "      <td>8.6</td>\n",
       "      <td>MaximumBreaks</td>\n",
       "    </tr>\n",
       "    <tr>\n",
       "      <th>5</th>\n",
       "      <td>6.5</td>\n",
       "      <td>FisherJenks</td>\n",
       "    </tr>\n",
       "    <tr>\n",
       "      <th>6</th>\n",
       "      <td>6.5</td>\n",
       "      <td>JenksCaspall</td>\n",
       "    </tr>\n",
       "    <tr>\n",
       "      <th>7</th>\n",
       "      <td>12.7</td>\n",
       "      <td>MaxP</td>\n",
       "    </tr>\n",
       "  </tbody>\n",
       "</table>\n",
       "</div>"
      ],
      "text/plain": [
       "   ADCM      Classifier\n",
       "0  12.7       Quantiles\n",
       "1   8.6   EqualInterval\n",
       "2  16.9         StdMean\n",
       "3  13.6  HeadTailBreaks\n",
       "4   8.6   MaximumBreaks\n",
       "5   6.5     FisherJenks\n",
       "6   6.5    JenksCaspall\n",
       "7  12.7            MaxP"
      ]
     },
     "execution_count": 281,
     "metadata": {},
     "output_type": "execute_result"
    }
   ],
   "source": [
    "class5 = q5, ei5,msd, ht, mb5, fj5, jc5, mp5\n",
    "# Collect ADCM for each classifier\n",
    "fits = np.array([ c.adcm for c in clase6])\n",
    "# Convert ADCM scores to a DataFrame\n",
    "adcms = pd.DataFrame(fits)\n",
    "# Add classifier names\n",
    "adcms['Classifier'] = [c.name for c in class5]\n",
    "adcms.rename(columns={0:'ADCM'},inplace=True)\n",
    "# see the value\n",
    "adcms #este es para ver el error"
   ]
  },
  {
   "cell_type": "code",
   "execution_count": 286,
   "id": "763a8efc",
   "metadata": {},
   "outputs": [],
   "source": [
    "#el jenk caspall y el FisherJenks tienen el error mas pequeño\n",
    "provinciasGDF2['Pobreza_porcentaje_jc5'] = jc5.yb"
   ]
  },
  {
   "cell_type": "code",
   "execution_count": 287,
   "id": "7495b572",
   "metadata": {},
   "outputs": [
    {
     "data": {
      "image/png": "[encoded data removed]",
      "text/plain": [
       "<Figure size 900x900 with 1 Axes>"
      ]
     },
     "metadata": {},
     "output_type": "display_data"
    }
   ],
   "source": [
    "# Ahora, se grafica el mapa con las clasificaciones\n",
    "import matplotlib.pyplot as plt\n",
    "\n",
    "f, ax = plt.subplots(1, figsize=(9, 9))\n",
    "provinciasGDF2.plot(column='Pobreza_porcentaje_jc5', \n",
    "        cmap='viridis', \n",
    "        categorical=True,\n",
    "        edgecolor='white', \n",
    "        linewidth=0., \n",
    "        alpha=0.75, \n",
    "        legend=True,\n",
    "        legend_kwds=dict(loc=2),\n",
    "        ax=ax\n",
    "       )\n",
    "\n",
    "ax.set_axis_off()"
   ]
  },
  {
   "cell_type": "code",
   "execution_count": null,
   "id": "85fa2179",
   "metadata": {},
   "outputs": [],
   "source": [
    "#Histograma"
   ]
  },
  {
   "cell_type": "code",
   "execution_count": 288,
   "id": "248d8f12",
   "metadata": {},
   "outputs": [],
   "source": [
    "jc5_bins=list(jc5.bins)"
   ]
  },
  {
   "cell_type": "code",
   "execution_count": 292,
   "id": "0c23b529",
   "metadata": {},
   "outputs": [
    {
     "data": {
      "text/plain": [
       "<Axes: xlabel='Pobreza_porcentaje', ylabel='Count'>"
      ]
     },
     "execution_count": 292,
     "metadata": {},
     "output_type": "execute_result"
    },
    {
     "data": {
      "image/png": "[encoded data removed]",
      "text/plain": [
       "<Figure size 640x480 with 1 Axes>"
      ]
     },
     "metadata": {},
     "output_type": "display_data"
    }
   ],
   "source": [
    "import seaborn as sea\n",
    "sea.histplot(provinciasGDF2.Pobreza_porcentaje, bins=jc5_bins,color='violet')"
   ]
  },
  {
   "cell_type": "markdown",
   "id": "10384446",
   "metadata": {},
   "source": [
    "### Exercise 7\n",
    "\n",
    "<div class=\"alert-success\">\n",
    "        \n",
    "Compute the neighbors of the capital of your country. Plot the results for each of the options. (calcula la distcnia rook queen y knn)\n",
    "    \n",
    "</div>"
   ]
  },
  {
   "cell_type": "code",
   "execution_count": 293,
   "id": "284b3d1f",
   "metadata": {},
   "outputs": [
    {
     "name": "stdout",
     "output_type": "stream",
     "text": [
      "Defaulting to user installation because normal site-packages is not writeable\n",
      "Requirement already satisfied: libpysal in c:\\users\\edgar ramos castro\\appdata\\roaming\\python\\python311\\site-packages (4.9.2)\n",
      "Requirement already satisfied: beautifulsoup4>=4.10 in c:\\programdata\\anaconda3\\envs\\sds_mi_ambiente_romina\\lib\\site-packages (from libpysal) (4.12.2)\n",
      "Requirement already satisfied: geopandas>=0.10.0 in c:\\programdata\\anaconda3\\envs\\sds_mi_ambiente_romina\\lib\\site-packages (from libpysal) (0.14.0)\n",
      "Requirement already satisfied: numpy>=1.22 in c:\\programdata\\anaconda3\\envs\\sds_mi_ambiente_romina\\lib\\site-packages (from libpysal) (1.25.2)\n",
      "Requirement already satisfied: packaging>=22 in c:\\programdata\\anaconda3\\envs\\sds_mi_ambiente_romina\\lib\\site-packages (from libpysal) (23.0)\n",
      "Requirement already satisfied: pandas>=1.4 in c:\\programdata\\anaconda3\\envs\\sds_mi_ambiente_romina\\lib\\site-packages (from libpysal) (2.0.3)\n",
      "Requirement already satisfied: platformdirs>=2.0.2 in c:\\programdata\\anaconda3\\envs\\sds_mi_ambiente_romina\\lib\\site-packages (from libpysal) (3.10.0)\n",
      "Requirement already satisfied: requests>=2.27 in c:\\programdata\\anaconda3\\envs\\sds_mi_ambiente_romina\\lib\\site-packages (from libpysal) (2.31.0)\n",
      "Requirement already satisfied: scipy>=1.8 in c:\\programdata\\anaconda3\\envs\\sds_mi_ambiente_romina\\lib\\site-packages (from libpysal) (1.11.3)\n",
      "Requirement already satisfied: shapely>=2.0.1 in c:\\programdata\\anaconda3\\envs\\sds_mi_ambiente_romina\\lib\\site-packages (from libpysal) (2.0.1)\n",
      "Requirement already satisfied: soupsieve>1.2 in c:\\programdata\\anaconda3\\envs\\sds_mi_ambiente_romina\\lib\\site-packages (from beautifulsoup4>=4.10->libpysal) (2.4)\n",
      "Requirement already satisfied: fiona>=1.8.21 in c:\\programdata\\anaconda3\\envs\\sds_mi_ambiente_romina\\lib\\site-packages (from geopandas>=0.10.0->libpysal) (1.9.1)\n",
      "Requirement already satisfied: pyproj>=3.3.0 in c:\\programdata\\anaconda3\\envs\\sds_mi_ambiente_romina\\lib\\site-packages (from geopandas>=0.10.0->libpysal) (3.5.0)\n",
      "Requirement already satisfied: python-dateutil>=2.8.2 in c:\\programdata\\anaconda3\\envs\\sds_mi_ambiente_romina\\lib\\site-packages (from pandas>=1.4->libpysal) (2.8.2)\n",
      "Requirement already satisfied: pytz>=2020.1 in c:\\programdata\\anaconda3\\envs\\sds_mi_ambiente_romina\\lib\\site-packages (from pandas>=1.4->libpysal) (2022.7)\n",
      "Requirement already satisfied: tzdata>=2022.1 in c:\\programdata\\anaconda3\\envs\\sds_mi_ambiente_romina\\lib\\site-packages (from pandas>=1.4->libpysal) (2023.3)\n",
      "Requirement already satisfied: charset-normalizer<4,>=2 in c:\\programdata\\anaconda3\\envs\\sds_mi_ambiente_romina\\lib\\site-packages (from requests>=2.27->libpysal) (2.0.4)\n",
      "Requirement already satisfied: idna<4,>=2.5 in c:\\programdata\\anaconda3\\envs\\sds_mi_ambiente_romina\\lib\\site-packages (from requests>=2.27->libpysal) (3.4)\n",
      "Requirement already satisfied: urllib3<3,>=1.21.1 in c:\\programdata\\anaconda3\\envs\\sds_mi_ambiente_romina\\lib\\site-packages (from requests>=2.27->libpysal) (1.26.16)\n",
      "Requirement already satisfied: certifi>=2017.4.17 in c:\\programdata\\anaconda3\\envs\\sds_mi_ambiente_romina\\lib\\site-packages (from requests>=2.27->libpysal) (2023.11.17)\n",
      "Requirement already satisfied: attrs>=19.2.0 in c:\\programdata\\anaconda3\\envs\\sds_mi_ambiente_romina\\lib\\site-packages (from fiona>=1.8.21->geopandas>=0.10.0->libpysal) (22.1.0)\n",
      "Requirement already satisfied: click~=8.0 in c:\\programdata\\anaconda3\\envs\\sds_mi_ambiente_romina\\lib\\site-packages (from fiona>=1.8.21->geopandas>=0.10.0->libpysal) (8.1.7)\n",
      "Requirement already satisfied: click-plugins>=1.0 in c:\\programdata\\anaconda3\\envs\\sds_mi_ambiente_romina\\lib\\site-packages (from fiona>=1.8.21->geopandas>=0.10.0->libpysal) (1.1.1)\n",
      "Requirement already satisfied: cligj>=0.5 in c:\\programdata\\anaconda3\\envs\\sds_mi_ambiente_romina\\lib\\site-packages (from fiona>=1.8.21->geopandas>=0.10.0->libpysal) (0.7.2)\n",
      "Requirement already satisfied: munch>=2.3.2 in c:\\programdata\\anaconda3\\envs\\sds_mi_ambiente_romina\\lib\\site-packages (from fiona>=1.8.21->geopandas>=0.10.0->libpysal) (4.0.0)\n",
      "Requirement already satisfied: setuptools in c:\\programdata\\anaconda3\\envs\\sds_mi_ambiente_romina\\lib\\site-packages (from fiona>=1.8.21->geopandas>=0.10.0->libpysal) (68.0.0)\n",
      "Requirement already satisfied: six>=1.5 in c:\\programdata\\anaconda3\\envs\\sds_mi_ambiente_romina\\lib\\site-packages (from python-dateutil>=2.8.2->pandas>=1.4->libpysal) (1.16.0)\n",
      "Requirement already satisfied: colorama in c:\\programdata\\anaconda3\\envs\\sds_mi_ambiente_romina\\lib\\site-packages (from click~=8.0->fiona>=1.8.21->geopandas>=0.10.0->libpysal) (0.4.6)\n"
     ]
    }
   ],
   "source": [
    "!pip install libpysal"
   ]
  },
  {
   "cell_type": "code",
   "execution_count": 294,
   "id": "013f7380",
   "metadata": {},
   "outputs": [
    {
     "name": "stderr",
     "output_type": "stream",
     "text": [
      "C:\\Users\\Edgar Ramos Castro\\AppData\\Roaming\\Python\\Python311\\site-packages\\libpysal\\weights\\weights.py:224: UserWarning: The weights matrix is not fully connected: \n",
      " There are 2 disconnected components.\n",
      " There is 1 island with id: 20.\n",
      "  warnings.warn(message)\n"
     ]
    }
   ],
   "source": [
    "from libpysal.weights import Queen, Rook, KNN\n",
    "\n",
    "# rook\n",
    "w_rook = Rook.from_dataframe(provinciasGDF2,use_index=False) "
   ]
  },
  {
   "cell_type": "code",
   "execution_count": 295,
   "id": "15753d11",
   "metadata": {},
   "outputs": [],
   "source": [
    "# queen\n",
    "w_queen = Queen.from_dataframe(provinciasGDF2,use_index=False)"
   ]
  },
  {
   "cell_type": "code",
   "execution_count": null,
   "id": "58050676",
   "metadata": {},
   "outputs": [],
   "source": [
    "w_knn = KNN.from_dataframe(datadisMap, k=4)"
   ]
  },
  {
   "cell_type": "code",
   "execution_count": null,
   "id": "df15cce5",
   "metadata": {},
   "outputs": [],
   "source": []
  },
  {
   "cell_type": "code",
   "execution_count": null,
   "id": "90c848d3",
   "metadata": {},
   "outputs": [],
   "source": []
  },
  {
   "cell_type": "code",
   "execution_count": null,
   "id": "cf2144cb",
   "metadata": {},
   "outputs": [],
   "source": []
  },
  {
   "cell_type": "code",
   "execution_count": null,
   "id": "5c47b328",
   "metadata": {},
   "outputs": [],
   "source": []
  },
  {
   "cell_type": "code",
   "execution_count": null,
   "id": "c540a3ea",
   "metadata": {},
   "outputs": [],
   "source": []
  },
  {
   "cell_type": "code",
   "execution_count": null,
   "id": "7fbc88fc",
   "metadata": {},
   "outputs": [],
   "source": []
  },
  {
   "cell_type": "markdown",
   "id": "9e17a19b",
   "metadata": {},
   "source": [
    "### Exercise 8\n",
    "\n",
    "<div class=\"alert-success\">\n",
    "    \n",
    "1. Compute the Moran's coefficient for **all** your numeric variables.\n",
    "    \n",
    "2. Make a scatter plot for each variable.\n",
    "    \n",
    "</div>"
   ]
  },
  {
   "cell_type": "code",
   "execution_count": null,
   "id": "c7bf5a74",
   "metadata": {},
   "outputs": [],
   "source": []
  },
  {
   "cell_type": "code",
   "execution_count": null,
   "id": "1ed6b3f8",
   "metadata": {},
   "outputs": [],
   "source": []
  },
  {
   "cell_type": "code",
   "execution_count": null,
   "id": "d62bcb83",
   "metadata": {},
   "outputs": [],
   "source": []
  },
  {
   "cell_type": "code",
   "execution_count": null,
   "id": "194b0488",
   "metadata": {},
   "outputs": [],
   "source": []
  },
  {
   "cell_type": "code",
   "execution_count": null,
   "id": "fdb120b9",
   "metadata": {},
   "outputs": [],
   "source": []
  },
  {
   "cell_type": "markdown",
   "id": "b900a23c",
   "metadata": {},
   "source": [
    "### Exercise 9\n",
    "\n",
    "<div class=\"alert-success\">\n",
    "    \n",
    "1. Compute the Local Moran for the variables in your data that have significant spatial correlation.\n",
    "    \n",
    "2. Create a new column for each of those variables, with a label ('0 no_sig', '1 hotSpot', '2 coldOutlier', '3 coldSpot', '4 hotOutlier').\n",
    "\n",
    "3. Prepare a map for each of the variables analyzed, showing the spots and outliers.\n",
    "    \n",
    "</div>"
   ]
  },
  {
   "cell_type": "code",
   "execution_count": null,
   "id": "e9782658",
   "metadata": {},
   "outputs": [],
   "source": []
  }
 ],
 "metadata": {
  "kernelspec": {
   "display_name": "Python 3 (ipykernel)",
   "language": "python",
   "name": "python3"
  },
  "language_info": {
   "codemirror_mode": {
    "name": "ipython",
    "version": 3
   },
   "file_extension": ".py",
   "mimetype": "text/x-python",
   "name": "python",
   "nbconvert_exporter": "python",
   "pygments_lexer": "ipython3",
   "version": "3.11.4"
  }
 },
 "nbformat": 4,
 "nbformat_minor": 5
}
