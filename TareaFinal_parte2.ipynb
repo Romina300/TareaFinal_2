{
 "cells": [
  {
   "cell_type": "markdown",
   "id": "a54d7c16",
   "metadata": {},
   "source": [
    "### Exercise 5\n",
    "\n",
    "<div class=\"alert-success\">\n",
    "    \n",
    "1. **Get a polygons map of the lowest administrative unit possible. : distrito**\n",
    "    \n",
    "2. Get a **table of variables for those units**. At least 3 numerical variables. densidad poblacion, indice de contaminacion  indice de probreza, etc**\n",
    "    poblacion y superficie no considerar para las 3 varibles cuanti\n",
    "\n",
    "3. **Preprocess both tables and get them ready for merging.**\n",
    "\n",
    "4. **Do the merging, making the changes needed so that you keep the most columns.**\n",
    "    el ejercicio ess juntar la data con la tabla de datos, no hay ningun calculo\n",
    "    \n",
    "    \n",
    "</div>"
   ]
  },
  {
   "cell_type": "code",
   "execution_count": 16,
   "id": "459ed1e4",
   "metadata": {},
   "outputs": [
    {
     "data": {
      "text/plain": [
       "['country',\n",
       " 'cities',\n",
       " 'rivers',\n",
       " 'states',\n",
       " 'municipalities',\n",
       " 'border',\n",
       " 'airports']"
      ]
     },
     "execution_count": 16,
     "metadata": {},
     "output_type": "execute_result"
    }
   ],
   "source": [
    "from  fiona import listlayers\n",
    "import os\n",
    "\n",
    "argentinaMaps=os.path.join('maps','argentina22171','argentinaMaps22171_all3.gpkg')\n",
    "\n",
    "#layers in maps\n",
    "listlayers(argentinaMaps)"
   ]
  },
  {
   "cell_type": "code",
   "execution_count": 17,
   "id": "8d3cb7e2",
   "metadata": {},
   "outputs": [],
   "source": [
    "# reading in the data:\n",
    "import os\n",
    "import geopandas as gpd\n",
    "\n",
    "country=gpd.read_file(argentinaMaps,layer='country')\n",
    "states=gpd.read_file(argentinaMaps,layer='states')\n",
    "municipalities=gpd.read_file(argentinaMaps,layer='municipalities')\n",
    "airports=gpd.read_file(argentinaMaps,layer='airports')\n",
    "rivers=gpd.read_file(argentinaMaps,layer='rivers')\n",
    "border=gpd.read_file(argentinaMaps,layer='border')"
   ]
  },
  {
   "cell_type": "code",
   "execution_count": 18,
   "id": "e1b41df0",
   "metadata": {},
   "outputs": [
    {
     "name": "stdout",
     "output_type": "stream",
     "text": [
      "<class 'pandas.core.frame.DataFrame'>\n",
      "RangeIndex: 52 entries, 0 to 51\n",
      "Data columns (total 6 columns):\n",
      " #   Column                Non-Null Count  Dtype  \n",
      "---  ------                --------------  -----  \n",
      " 0   Area geografica       27 non-null     object \n",
      " 1   Pobreza_personas(%)   27 non-null     object \n",
      " 2   Muertes_tuberculosis  16 non-null     float64\n",
      " 3   IDH_2019              19 non-null     object \n",
      " 4   año                   27 non-null     float64\n",
      " 5   pais                  27 non-null     object \n",
      "dtypes: float64(2), object(4)\n",
      "memory usage: 2.6+ KB\n"
     ]
    }
   ],
   "source": [
    "# data table\n",
    "import pandas as pd\n",
    "\n",
    "argData=os.path.join(\"data\",\"base_de_datos_3_var.xlsx\")\n",
    "datadis=pd.read_excel(argData,\n",
    "                     dtype={'Ubigeo': object})\n",
    "datadis.info()\n",
    "#hasta ahora solo hemos trabajado con su geometria no con su data\n",
    "#tengo q hacer un merge: o sea meter la data dentro del poligono"
   ]
  },
  {
   "cell_type": "code",
   "execution_count": 19,
   "id": "a0ca84a9",
   "metadata": {},
   "outputs": [
    {
     "data": {
      "text/html": [
       "<div>\n",
       "<style scoped>\n",
       "    .dataframe tbody tr th:only-of-type {\n",
       "        vertical-align: middle;\n",
       "    }\n",
       "\n",
       "    .dataframe tbody tr th {\n",
       "        vertical-align: top;\n",
       "    }\n",
       "\n",
       "    .dataframe thead th {\n",
       "        text-align: right;\n",
       "    }\n",
       "</style>\n",
       "<table border=\"1\" class=\"dataframe\">\n",
       "  <thead>\n",
       "    <tr style=\"text-align: right;\">\n",
       "      <th></th>\n",
       "      <th>Provincia</th>\n",
       "      <th>Pobreza_personas(%)</th>\n",
       "      <th>Muertes_tuberculosis</th>\n",
       "      <th>IDH_2019</th>\n",
       "      <th>año</th>\n",
       "      <th>Pais</th>\n",
       "    </tr>\n",
       "  </thead>\n",
       "  <tbody>\n",
       "    <tr>\n",
       "      <th>0</th>\n",
       "      <td>Ciudad Autónoma de Buenos Aires</td>\n",
       "      <td>1,3</td>\n",
       "      <td>28.0</td>\n",
       "      <td>0,882</td>\n",
       "      <td>2019.0</td>\n",
       "      <td>Argentina</td>\n",
       "    </tr>\n",
       "    <tr>\n",
       "      <th>1</th>\n",
       "      <td>Buenos Aires</td>\n",
       "      <td>11,3</td>\n",
       "      <td>209.0</td>\n",
       "      <td>0,842</td>\n",
       "      <td>2019.0</td>\n",
       "      <td>Argentina</td>\n",
       "    </tr>\n",
       "    <tr>\n",
       "      <th>2</th>\n",
       "      <td>Gran Mendoza</td>\n",
       "      <td>7,9</td>\n",
       "      <td>8.0</td>\n",
       "      <td>0,848</td>\n",
       "      <td>2019.0</td>\n",
       "      <td>Argentina</td>\n",
       "    </tr>\n",
       "    <tr>\n",
       "      <th>3</th>\n",
       "      <td>Gran San Juan</td>\n",
       "      <td>3,4</td>\n",
       "      <td>7.0</td>\n",
       "      <td>0,838</td>\n",
       "      <td>2019.0</td>\n",
       "      <td>Argentina</td>\n",
       "    </tr>\n",
       "    <tr>\n",
       "      <th>4</th>\n",
       "      <td>Gran San Luis</td>\n",
       "      <td>3,5</td>\n",
       "      <td>1.0</td>\n",
       "      <td>0,843</td>\n",
       "      <td>2019.0</td>\n",
       "      <td>Argentina</td>\n",
       "    </tr>\n",
       "  </tbody>\n",
       "</table>\n",
       "</div>"
      ],
      "text/plain": [
       "                         Provincia Pobreza_personas(%)  Muertes_tuberculosis  \\\n",
       "0  Ciudad Autónoma de Buenos Aires                 1,3                  28.0   \n",
       "1                     Buenos Aires                11,3                 209.0   \n",
       "2                     Gran Mendoza                 7,9                   8.0   \n",
       "3                    Gran San Juan                 3,4                   7.0   \n",
       "4                    Gran San Luis                 3,5                   1.0   \n",
       "\n",
       "  IDH_2019     año       Pais  \n",
       "0    0,882  2019.0  Argentina  \n",
       "1    0,842  2019.0  Argentina  \n",
       "2    0,848  2019.0  Argentina  \n",
       "3    0,838  2019.0  Argentina  \n",
       "4    0,843  2019.0  Argentina  "
      ]
     },
     "execution_count": 19,
     "metadata": {},
     "output_type": "execute_result"
    }
   ],
   "source": [
    "datadis.rename(columns={'Area geografica':'Provincia', 'pais':'Pais'},inplace=True)\n",
    "datadis.head()"
   ]
  },
  {
   "cell_type": "code",
   "execution_count": 20,
   "id": "9775c08f",
   "metadata": {},
   "outputs": [
    {
     "data": {
      "text/html": [
       "<div>\n",
       "<style scoped>\n",
       "    .dataframe tbody tr th:only-of-type {\n",
       "        vertical-align: middle;\n",
       "    }\n",
       "\n",
       "    .dataframe tbody tr th {\n",
       "        vertical-align: top;\n",
       "    }\n",
       "\n",
       "    .dataframe thead th {\n",
       "        text-align: right;\n",
       "    }\n",
       "</style>\n",
       "<table border=\"1\" class=\"dataframe\">\n",
       "  <thead>\n",
       "    <tr style=\"text-align: right;\">\n",
       "      <th></th>\n",
       "      <th>ADM0_ES</th>\n",
       "      <th>ADM0_PCODE</th>\n",
       "      <th>ADM1_ES</th>\n",
       "      <th>ADM1_PCODE</th>\n",
       "      <th>geometry</th>\n",
       "    </tr>\n",
       "  </thead>\n",
       "  <tbody>\n",
       "    <tr>\n",
       "      <th>0</th>\n",
       "      <td>Argentina</td>\n",
       "      <td>AR</td>\n",
       "      <td>Buenos Aires</td>\n",
       "      <td>AR006</td>\n",
       "      <td>MULTIPOLYGON Z (((2335919.444 5475450.748 0.00...</td>\n",
       "    </tr>\n",
       "    <tr>\n",
       "      <th>1</th>\n",
       "      <td>Argentina</td>\n",
       "      <td>AR</td>\n",
       "      <td>Catamarca</td>\n",
       "      <td>AR010</td>\n",
       "      <td>POLYGON Z ((1906189.076 7204695.456 0.000, 191...</td>\n",
       "    </tr>\n",
       "    <tr>\n",
       "      <th>2</th>\n",
       "      <td>Argentina</td>\n",
       "      <td>AR</td>\n",
       "      <td>Chaco</td>\n",
       "      <td>AR022</td>\n",
       "      <td>POLYGON Z ((2494292.791 7296258.081 0.000, 249...</td>\n",
       "    </tr>\n",
       "    <tr>\n",
       "      <th>3</th>\n",
       "      <td>Argentina</td>\n",
       "      <td>AR</td>\n",
       "      <td>Chubut</td>\n",
       "      <td>AR026</td>\n",
       "      <td>MULTIPOLYGON Z (((1916196.919 4975824.860 0.00...</td>\n",
       "    </tr>\n",
       "    <tr>\n",
       "      <th>4</th>\n",
       "      <td>Argentina</td>\n",
       "      <td>AR</td>\n",
       "      <td>Ciudad de Buenos Aires</td>\n",
       "      <td>AR002</td>\n",
       "      <td>POLYGON Z ((2747577.276 6094399.410 0.000, 274...</td>\n",
       "    </tr>\n",
       "  </tbody>\n",
       "</table>\n",
       "</div>"
      ],
      "text/plain": [
       "     ADM0_ES ADM0_PCODE                 ADM1_ES ADM1_PCODE  \\\n",
       "0  Argentina         AR            Buenos Aires      AR006   \n",
       "1  Argentina         AR               Catamarca      AR010   \n",
       "2  Argentina         AR                   Chaco      AR022   \n",
       "3  Argentina         AR                  Chubut      AR026   \n",
       "4  Argentina         AR  Ciudad de Buenos Aires      AR002   \n",
       "\n",
       "                                            geometry  \n",
       "0  MULTIPOLYGON Z (((2335919.444 5475450.748 0.00...  \n",
       "1  POLYGON Z ((1906189.076 7204695.456 0.000, 191...  \n",
       "2  POLYGON Z ((2494292.791 7296258.081 0.000, 249...  \n",
       "3  MULTIPOLYGON Z (((1916196.919 4975824.860 0.00...  \n",
       "4  POLYGON Z ((2747577.276 6094399.410 0.000, 274...  "
      ]
     },
     "execution_count": 20,
     "metadata": {},
     "output_type": "execute_result"
    }
   ],
   "source": [
    "# map\n",
    "#import geopandas as gpd\n",
    "\n",
    "#peruDataDist=os.path.join('miningGDF',\"maps\",\"DistritosMap.zip\")\n",
    "\n",
    "#datadismap=gpd.read_file(peruDataDist)\n",
    "\n",
    "states.head()"
   ]
  },
  {
   "cell_type": "code",
   "execution_count": 21,
   "id": "c68fa3ca",
   "metadata": {},
   "outputs": [
    {
     "data": {
      "text/html": [
       "<div>\n",
       "<style scoped>\n",
       "    .dataframe tbody tr th:only-of-type {\n",
       "        vertical-align: middle;\n",
       "    }\n",
       "\n",
       "    .dataframe tbody tr th {\n",
       "        vertical-align: top;\n",
       "    }\n",
       "\n",
       "    .dataframe thead th {\n",
       "        text-align: right;\n",
       "    }\n",
       "</style>\n",
       "<table border=\"1\" class=\"dataframe\">\n",
       "  <thead>\n",
       "    <tr style=\"text-align: right;\">\n",
       "      <th></th>\n",
       "      <th>Pais</th>\n",
       "      <th>ADM0_PCODE</th>\n",
       "      <th>Provincia</th>\n",
       "      <th>ADM1_PCODE</th>\n",
       "      <th>geometry</th>\n",
       "    </tr>\n",
       "  </thead>\n",
       "  <tbody>\n",
       "    <tr>\n",
       "      <th>0</th>\n",
       "      <td>Argentina</td>\n",
       "      <td>AR</td>\n",
       "      <td>Buenos Aires</td>\n",
       "      <td>AR006</td>\n",
       "      <td>MULTIPOLYGON Z (((2335919.444 5475450.748 0.00...</td>\n",
       "    </tr>\n",
       "    <tr>\n",
       "      <th>1</th>\n",
       "      <td>Argentina</td>\n",
       "      <td>AR</td>\n",
       "      <td>Catamarca</td>\n",
       "      <td>AR010</td>\n",
       "      <td>POLYGON Z ((1906189.076 7204695.456 0.000, 191...</td>\n",
       "    </tr>\n",
       "    <tr>\n",
       "      <th>2</th>\n",
       "      <td>Argentina</td>\n",
       "      <td>AR</td>\n",
       "      <td>Chaco</td>\n",
       "      <td>AR022</td>\n",
       "      <td>POLYGON Z ((2494292.791 7296258.081 0.000, 249...</td>\n",
       "    </tr>\n",
       "    <tr>\n",
       "      <th>3</th>\n",
       "      <td>Argentina</td>\n",
       "      <td>AR</td>\n",
       "      <td>Chubut</td>\n",
       "      <td>AR026</td>\n",
       "      <td>MULTIPOLYGON Z (((1916196.919 4975824.860 0.00...</td>\n",
       "    </tr>\n",
       "    <tr>\n",
       "      <th>4</th>\n",
       "      <td>Argentina</td>\n",
       "      <td>AR</td>\n",
       "      <td>Ciudad de Buenos Aires</td>\n",
       "      <td>AR002</td>\n",
       "      <td>POLYGON Z ((2747577.276 6094399.410 0.000, 274...</td>\n",
       "    </tr>\n",
       "  </tbody>\n",
       "</table>\n",
       "</div>"
      ],
      "text/plain": [
       "        Pais ADM0_PCODE               Provincia ADM1_PCODE  \\\n",
       "0  Argentina         AR            Buenos Aires      AR006   \n",
       "1  Argentina         AR               Catamarca      AR010   \n",
       "2  Argentina         AR                   Chaco      AR022   \n",
       "3  Argentina         AR                  Chubut      AR026   \n",
       "4  Argentina         AR  Ciudad de Buenos Aires      AR002   \n",
       "\n",
       "                                            geometry  \n",
       "0  MULTIPOLYGON Z (((2335919.444 5475450.748 0.00...  \n",
       "1  POLYGON Z ((1906189.076 7204695.456 0.000, 191...  \n",
       "2  POLYGON Z ((2494292.791 7296258.081 0.000, 249...  \n",
       "3  MULTIPOLYGON Z (((1916196.919 4975824.860 0.00...  \n",
       "4  POLYGON Z ((2747577.276 6094399.410 0.000, 274...  "
      ]
     },
     "execution_count": 21,
     "metadata": {},
     "output_type": "execute_result"
    }
   ],
   "source": [
    "#rename\n",
    "states.rename(columns={'ADM1_ES':'Provincia', 'ADM0_ES':'Pais'},inplace=True)\n",
    "states.head()"
   ]
  },
  {
   "cell_type": "code",
   "execution_count": 22,
   "id": "ed344334",
   "metadata": {},
   "outputs": [
    {
     "data": {
      "text/html": [
       "<div>\n",
       "<style scoped>\n",
       "    .dataframe tbody tr th:only-of-type {\n",
       "        vertical-align: middle;\n",
       "    }\n",
       "\n",
       "    .dataframe tbody tr th {\n",
       "        vertical-align: top;\n",
       "    }\n",
       "\n",
       "    .dataframe thead th {\n",
       "        text-align: right;\n",
       "    }\n",
       "</style>\n",
       "<table border=\"1\" class=\"dataframe\">\n",
       "  <thead>\n",
       "    <tr style=\"text-align: right;\">\n",
       "      <th></th>\n",
       "      <th>Pais_x</th>\n",
       "      <th>ADM0_PCODE</th>\n",
       "      <th>Provincia</th>\n",
       "      <th>ADM1_PCODE</th>\n",
       "      <th>geometry</th>\n",
       "      <th>Pobreza_personas(%)</th>\n",
       "      <th>Muertes_tuberculosis</th>\n",
       "      <th>IDH_2019</th>\n",
       "      <th>año</th>\n",
       "      <th>Pais_y</th>\n",
       "    </tr>\n",
       "  </thead>\n",
       "  <tbody>\n",
       "    <tr>\n",
       "      <th>0</th>\n",
       "      <td>Argentina</td>\n",
       "      <td>AR</td>\n",
       "      <td>Buenos Aires</td>\n",
       "      <td>AR006</td>\n",
       "      <td>MULTIPOLYGON Z (((2335919.444 5475450.748 0.00...</td>\n",
       "      <td>11,3</td>\n",
       "      <td>209.0</td>\n",
       "      <td>0,842</td>\n",
       "      <td>2019.0</td>\n",
       "      <td>Argentina</td>\n",
       "    </tr>\n",
       "    <tr>\n",
       "      <th>1</th>\n",
       "      <td>Argentina</td>\n",
       "      <td>AR</td>\n",
       "      <td>Corrientes</td>\n",
       "      <td>AR018</td>\n",
       "      <td>MULTIPOLYGON Z (((3004612.053 6855238.635 0.00...</td>\n",
       "      <td>6,8</td>\n",
       "      <td>10.0</td>\n",
       "      <td>0,839</td>\n",
       "      <td>2019.0</td>\n",
       "      <td>Argentina</td>\n",
       "    </tr>\n",
       "    <tr>\n",
       "      <th>2</th>\n",
       "      <td>Argentina</td>\n",
       "      <td>AR</td>\n",
       "      <td>Formosa</td>\n",
       "      <td>AR034</td>\n",
       "      <td>POLYGON Z ((2497424.367 7484757.793 0.000, 249...</td>\n",
       "      <td>5,8</td>\n",
       "      <td>4.0</td>\n",
       "      <td>0,822</td>\n",
       "      <td>2019.0</td>\n",
       "      <td>Argentina</td>\n",
       "    </tr>\n",
       "    <tr>\n",
       "      <th>3</th>\n",
       "      <td>Argentina</td>\n",
       "      <td>AR</td>\n",
       "      <td>La Rioja</td>\n",
       "      <td>AR046</td>\n",
       "      <td>POLYGON Z ((1842905.218 6918621.830 0.000, 184...</td>\n",
       "      <td>3,2</td>\n",
       "      <td>4.0</td>\n",
       "      <td>0,840</td>\n",
       "      <td>2019.0</td>\n",
       "      <td>Argentina</td>\n",
       "    </tr>\n",
       "    <tr>\n",
       "      <th>4</th>\n",
       "      <td>Argentina</td>\n",
       "      <td>AR</td>\n",
       "      <td>Salta</td>\n",
       "      <td>AR066</td>\n",
       "      <td>POLYGON Z ((2451820.395 7539541.582 0.000, 245...</td>\n",
       "      <td>7,9</td>\n",
       "      <td>21.0</td>\n",
       "      <td>0,844</td>\n",
       "      <td>2019.0</td>\n",
       "      <td>Argentina</td>\n",
       "    </tr>\n",
       "  </tbody>\n",
       "</table>\n",
       "</div>"
      ],
      "text/plain": [
       "      Pais_x ADM0_PCODE     Provincia ADM1_PCODE  \\\n",
       "0  Argentina         AR  Buenos Aires      AR006   \n",
       "1  Argentina         AR    Corrientes      AR018   \n",
       "2  Argentina         AR       Formosa      AR034   \n",
       "3  Argentina         AR      La Rioja      AR046   \n",
       "4  Argentina         AR         Salta      AR066   \n",
       "\n",
       "                                            geometry Pobreza_personas(%)  \\\n",
       "0  MULTIPOLYGON Z (((2335919.444 5475450.748 0.00...                11,3   \n",
       "1  MULTIPOLYGON Z (((3004612.053 6855238.635 0.00...                 6,8   \n",
       "2  POLYGON Z ((2497424.367 7484757.793 0.000, 249...                 5,8   \n",
       "3  POLYGON Z ((1842905.218 6918621.830 0.000, 184...                 3,2   \n",
       "4  POLYGON Z ((2451820.395 7539541.582 0.000, 245...                 7,9   \n",
       "\n",
       "   Muertes_tuberculosis IDH_2019     año     Pais_y  \n",
       "0                 209.0    0,842  2019.0  Argentina  \n",
       "1                  10.0    0,839  2019.0  Argentina  \n",
       "2                   4.0    0,822  2019.0  Argentina  \n",
       "3                   4.0    0,840  2019.0  Argentina  \n",
       "4                  21.0    0,844  2019.0  Argentina  "
      ]
     },
     "execution_count": 22,
     "metadata": {},
     "output_type": "execute_result"
    }
   ],
   "source": [
    "tablaMergeadas=states.merge(datadis, left_on='Provincia', right_on='Provincia')\n",
    "tablaMergeadas"
   ]
  },
  {
   "cell_type": "code",
   "execution_count": 23,
   "id": "265d94ae",
   "metadata": {},
   "outputs": [
    {
     "data": {
      "text/plain": [
       "(5, 10)"
      ]
     },
     "execution_count": 23,
     "metadata": {},
     "output_type": "execute_result"
    }
   ],
   "source": [
    "states.merge(datadis, left_on='Provincia', right_on='Provincia').shape"
   ]
  },
  {
   "cell_type": "code",
   "execution_count": 29,
   "id": "e17d8a13",
   "metadata": {},
   "outputs": [
    {
     "data": {
      "text/plain": [
       "0     Ciudad Autonoma de Buenos Aires\n",
       "1                        Buenos Aires\n",
       "2                             Cordoba\n",
       "3                          Entre Rios\n",
       "4                            Santa Fe\n",
       "5                            La Rioja\n",
       "6                             Mendoza\n",
       "7                            San Juan\n",
       "8                            San Luis\n",
       "9                           Catamarca\n",
       "10                              Jujuy\n",
       "11                              Salta\n",
       "12                Santiago Del Estero\n",
       "13                            Tucuman\n",
       "14                         Corrientes\n",
       "15                              Chaco\n",
       "16                            Formosa\n",
       "17                           Misiones\n",
       "18                             Chubut\n",
       "19                            Neuquen\n",
       "20                          Rio Negro\n",
       "21                         Santa Cruz\n",
       "22                   Tierra del Fuego\n",
       "Name: Provincia, dtype: object"
      ]
     },
     "execution_count": 29,
     "metadata": {},
     "output_type": "execute_result"
    }
   ],
   "source": [
    "datadis.Provincia"
   ]
  },
  {
   "cell_type": "code",
   "execution_count": 31,
   "id": "98385fc3",
   "metadata": {},
   "outputs": [
    {
     "data": {
      "text/plain": [
       "0               Buenos Aires\n",
       "1                  Catamarca\n",
       "2                      Chaco\n",
       "3                     Chubut\n",
       "4     Ciudad de Buenos Aires\n",
       "5                    Córdoba\n",
       "6                 Corrientes\n",
       "7                 Entre Ríos\n",
       "8                    Formosa\n",
       "9                      Jujuy\n",
       "10                  La Pampa\n",
       "11                  La Rioja\n",
       "12                   Mendoza\n",
       "13                  Misiones\n",
       "14                   Neuquén\n",
       "15                 Río negro\n",
       "16                     Salta\n",
       "17                  San Juan\n",
       "18                  San Luis\n",
       "19                Santa Cruz\n",
       "20                  Santa Fe\n",
       "21       Santiago del Estero\n",
       "22          Tierra del Fuego\n",
       "23                   Tucumán\n",
       "Name: Provincia, dtype: object"
      ]
     },
     "execution_count": 31,
     "metadata": {},
     "output_type": "execute_result"
    }
   ],
   "source": [
    "states.Provincia"
   ]
  },
  {
   "cell_type": "code",
   "execution_count": 34,
   "id": "2f0bf94e",
   "metadata": {},
   "outputs": [],
   "source": [
    "# all capitals, no empty spaces before or after.\n",
    "\n",
    "capitalizeColumns=lambda x: x.str.upper().str.strip()\n",
    "datadis[['Provincia','Pais']]=datadis[['Provincia','Pais']].apply(capitalizeColumns)\n",
    "states[['Provincia','Pais']]=states[['Provincia','Pais']].apply(capitalizeColumns)"
   ]
  },
  {
   "cell_type": "code",
   "execution_count": 35,
   "id": "b5fe0d4e",
   "metadata": {},
   "outputs": [
    {
     "name": "stdout",
     "output_type": "stream",
     "text": [
      "Defaulting to user installation because normal site-packages is not writeable\n",
      "Requirement already satisfied: unidecode in c:\\users\\edgar ramos castro\\appdata\\roaming\\python\\python311\\site-packages (1.3.6)\n"
     ]
    }
   ],
   "source": [
    "!pip install unidecode"
   ]
  },
  {
   "cell_type": "code",
   "execution_count": 36,
   "id": "4fb5369b",
   "metadata": {},
   "outputs": [
    {
     "ename": "AttributeError",
     "evalue": "'float' object has no attribute 'encode'",
     "output_type": "error",
     "traceback": [
      "\u001b[1;31m---------------------------------------------------------------------------\u001b[0m",
      "\u001b[1;31mAttributeError\u001b[0m                            Traceback (most recent call last)",
      "Cell \u001b[1;32mIn[36], line 5\u001b[0m\n\u001b[0;32m      1\u001b[0m \u001b[38;5;28;01mimport\u001b[39;00m \u001b[38;5;21;01munidecode\u001b[39;00m\n\u001b[0;32m      4\u001b[0m byePunctuation\u001b[38;5;241m=\u001b[39m\u001b[38;5;28;01mlambda\u001b[39;00m x: unidecode\u001b[38;5;241m.\u001b[39munidecode(x)\n\u001b[1;32m----> 5\u001b[0m datadis[[\u001b[38;5;124m'\u001b[39m\u001b[38;5;124mProvincia\u001b[39m\u001b[38;5;124m'\u001b[39m,\u001b[38;5;124m'\u001b[39m\u001b[38;5;124mPais\u001b[39m\u001b[38;5;124m'\u001b[39m]]\u001b[38;5;241m=\u001b[39mdatadis[[\u001b[38;5;124m'\u001b[39m\u001b[38;5;124mProvincia\u001b[39m\u001b[38;5;124m'\u001b[39m,\u001b[38;5;124m'\u001b[39m\u001b[38;5;124mPais\u001b[39m\u001b[38;5;124m'\u001b[39m]]\u001b[38;5;241m.\u001b[39mapplymap(byePunctuation)  \u001b[38;5;66;03m#applymap for olderpandas para colab\u001b[39;00m\n\u001b[0;32m      6\u001b[0m states[[\u001b[38;5;124m'\u001b[39m\u001b[38;5;124mProvincia\u001b[39m\u001b[38;5;124m'\u001b[39m,\u001b[38;5;124m'\u001b[39m\u001b[38;5;124mPais\u001b[39m\u001b[38;5;124m'\u001b[39m]]\u001b[38;5;241m=\u001b[39mstates[[\u001b[38;5;124m'\u001b[39m\u001b[38;5;124mProvincia\u001b[39m\u001b[38;5;124m'\u001b[39m,\u001b[38;5;124m'\u001b[39m\u001b[38;5;124mPais\u001b[39m\u001b[38;5;124m'\u001b[39m]]\u001b[38;5;241m.\u001b[39mapplymap(byePunctuation)\n",
      "File \u001b[1;32mC:\\ProgramData\\anaconda3\\envs\\SDS_Mi_ambiente_Romina\\Lib\\site-packages\\pandas\\core\\frame.py:9508\u001b[0m, in \u001b[0;36mDataFrame.applymap\u001b[1;34m(self, func, na_action, **kwargs)\u001b[0m\n\u001b[0;32m   9505\u001b[0m         \u001b[38;5;28;01mreturn\u001b[39;00m lib\u001b[38;5;241m.\u001b[39mmap_infer(x, func, ignore_na\u001b[38;5;241m=\u001b[39mignore_na)\n\u001b[0;32m   9506\u001b[0m     \u001b[38;5;28;01mreturn\u001b[39;00m lib\u001b[38;5;241m.\u001b[39mmap_infer(x\u001b[38;5;241m.\u001b[39mastype(\u001b[38;5;28mobject\u001b[39m)\u001b[38;5;241m.\u001b[39m_values, func, ignore_na\u001b[38;5;241m=\u001b[39mignore_na)\n\u001b[1;32m-> 9508\u001b[0m \u001b[38;5;28;01mreturn\u001b[39;00m \u001b[38;5;28mself\u001b[39m\u001b[38;5;241m.\u001b[39mapply(infer)\u001b[38;5;241m.\u001b[39m__finalize__(\u001b[38;5;28mself\u001b[39m, \u001b[38;5;124m\"\u001b[39m\u001b[38;5;124mapplymap\u001b[39m\u001b[38;5;124m\"\u001b[39m)\n",
      "File \u001b[1;32mC:\\ProgramData\\anaconda3\\envs\\SDS_Mi_ambiente_Romina\\Lib\\site-packages\\pandas\\core\\frame.py:9423\u001b[0m, in \u001b[0;36mDataFrame.apply\u001b[1;34m(self, func, axis, raw, result_type, args, **kwargs)\u001b[0m\n\u001b[0;32m   9412\u001b[0m \u001b[38;5;28;01mfrom\u001b[39;00m \u001b[38;5;21;01mpandas\u001b[39;00m\u001b[38;5;21;01m.\u001b[39;00m\u001b[38;5;21;01mcore\u001b[39;00m\u001b[38;5;21;01m.\u001b[39;00m\u001b[38;5;21;01mapply\u001b[39;00m \u001b[38;5;28;01mimport\u001b[39;00m frame_apply\n\u001b[0;32m   9414\u001b[0m op \u001b[38;5;241m=\u001b[39m frame_apply(\n\u001b[0;32m   9415\u001b[0m     \u001b[38;5;28mself\u001b[39m,\n\u001b[0;32m   9416\u001b[0m     func\u001b[38;5;241m=\u001b[39mfunc,\n\u001b[1;32m   (...)\u001b[0m\n\u001b[0;32m   9421\u001b[0m     kwargs\u001b[38;5;241m=\u001b[39mkwargs,\n\u001b[0;32m   9422\u001b[0m )\n\u001b[1;32m-> 9423\u001b[0m \u001b[38;5;28;01mreturn\u001b[39;00m op\u001b[38;5;241m.\u001b[39mapply()\u001b[38;5;241m.\u001b[39m__finalize__(\u001b[38;5;28mself\u001b[39m, method\u001b[38;5;241m=\u001b[39m\u001b[38;5;124m\"\u001b[39m\u001b[38;5;124mapply\u001b[39m\u001b[38;5;124m\"\u001b[39m)\n",
      "File \u001b[1;32mC:\\ProgramData\\anaconda3\\envs\\SDS_Mi_ambiente_Romina\\Lib\\site-packages\\pandas\\core\\apply.py:678\u001b[0m, in \u001b[0;36mFrameApply.apply\u001b[1;34m(self)\u001b[0m\n\u001b[0;32m    675\u001b[0m \u001b[38;5;28;01melif\u001b[39;00m \u001b[38;5;28mself\u001b[39m\u001b[38;5;241m.\u001b[39mraw:\n\u001b[0;32m    676\u001b[0m     \u001b[38;5;28;01mreturn\u001b[39;00m \u001b[38;5;28mself\u001b[39m\u001b[38;5;241m.\u001b[39mapply_raw()\n\u001b[1;32m--> 678\u001b[0m \u001b[38;5;28;01mreturn\u001b[39;00m \u001b[38;5;28mself\u001b[39m\u001b[38;5;241m.\u001b[39mapply_standard()\n",
      "File \u001b[1;32mC:\\ProgramData\\anaconda3\\envs\\SDS_Mi_ambiente_Romina\\Lib\\site-packages\\pandas\\core\\apply.py:798\u001b[0m, in \u001b[0;36mFrameApply.apply_standard\u001b[1;34m(self)\u001b[0m\n\u001b[0;32m    797\u001b[0m \u001b[38;5;28;01mdef\u001b[39;00m \u001b[38;5;21mapply_standard\u001b[39m(\u001b[38;5;28mself\u001b[39m):\n\u001b[1;32m--> 798\u001b[0m     results, res_index \u001b[38;5;241m=\u001b[39m \u001b[38;5;28mself\u001b[39m\u001b[38;5;241m.\u001b[39mapply_series_generator()\n\u001b[0;32m    800\u001b[0m     \u001b[38;5;66;03m# wrap results\u001b[39;00m\n\u001b[0;32m    801\u001b[0m     \u001b[38;5;28;01mreturn\u001b[39;00m \u001b[38;5;28mself\u001b[39m\u001b[38;5;241m.\u001b[39mwrap_results(results, res_index)\n",
      "File \u001b[1;32mC:\\ProgramData\\anaconda3\\envs\\SDS_Mi_ambiente_Romina\\Lib\\site-packages\\pandas\\core\\apply.py:814\u001b[0m, in \u001b[0;36mFrameApply.apply_series_generator\u001b[1;34m(self)\u001b[0m\n\u001b[0;32m    811\u001b[0m \u001b[38;5;28;01mwith\u001b[39;00m option_context(\u001b[38;5;124m\"\u001b[39m\u001b[38;5;124mmode.chained_assignment\u001b[39m\u001b[38;5;124m\"\u001b[39m, \u001b[38;5;28;01mNone\u001b[39;00m):\n\u001b[0;32m    812\u001b[0m     \u001b[38;5;28;01mfor\u001b[39;00m i, v \u001b[38;5;129;01min\u001b[39;00m \u001b[38;5;28menumerate\u001b[39m(series_gen):\n\u001b[0;32m    813\u001b[0m         \u001b[38;5;66;03m# ignore SettingWithCopy here in case the user mutates\u001b[39;00m\n\u001b[1;32m--> 814\u001b[0m         results[i] \u001b[38;5;241m=\u001b[39m \u001b[38;5;28mself\u001b[39m\u001b[38;5;241m.\u001b[39mf(v)\n\u001b[0;32m    815\u001b[0m         \u001b[38;5;28;01mif\u001b[39;00m \u001b[38;5;28misinstance\u001b[39m(results[i], ABCSeries):\n\u001b[0;32m    816\u001b[0m             \u001b[38;5;66;03m# If we have a view on v, we need to make a copy because\u001b[39;00m\n\u001b[0;32m    817\u001b[0m             \u001b[38;5;66;03m#  series_generator will swap out the underlying data\u001b[39;00m\n\u001b[0;32m    818\u001b[0m             results[i] \u001b[38;5;241m=\u001b[39m results[i]\u001b[38;5;241m.\u001b[39mcopy(deep\u001b[38;5;241m=\u001b[39m\u001b[38;5;28;01mFalse\u001b[39;00m)\n",
      "File \u001b[1;32mC:\\ProgramData\\anaconda3\\envs\\SDS_Mi_ambiente_Romina\\Lib\\site-packages\\pandas\\core\\frame.py:9506\u001b[0m, in \u001b[0;36mDataFrame.applymap.<locals>.infer\u001b[1;34m(x)\u001b[0m\n\u001b[0;32m   9504\u001b[0m \u001b[38;5;28;01mif\u001b[39;00m x\u001b[38;5;241m.\u001b[39mempty:\n\u001b[0;32m   9505\u001b[0m     \u001b[38;5;28;01mreturn\u001b[39;00m lib\u001b[38;5;241m.\u001b[39mmap_infer(x, func, ignore_na\u001b[38;5;241m=\u001b[39mignore_na)\n\u001b[1;32m-> 9506\u001b[0m \u001b[38;5;28;01mreturn\u001b[39;00m lib\u001b[38;5;241m.\u001b[39mmap_infer(x\u001b[38;5;241m.\u001b[39mastype(\u001b[38;5;28mobject\u001b[39m)\u001b[38;5;241m.\u001b[39m_values, func, ignore_na\u001b[38;5;241m=\u001b[39mignore_na)\n",
      "File \u001b[1;32mC:\\ProgramData\\anaconda3\\envs\\SDS_Mi_ambiente_Romina\\Lib\\site-packages\\pandas\\_libs\\lib.pyx:2834\u001b[0m, in \u001b[0;36mpandas._libs.lib.map_infer\u001b[1;34m()\u001b[0m\n",
      "Cell \u001b[1;32mIn[36], line 4\u001b[0m, in \u001b[0;36m<lambda>\u001b[1;34m(x)\u001b[0m\n\u001b[0;32m      1\u001b[0m \u001b[38;5;28;01mimport\u001b[39;00m \u001b[38;5;21;01munidecode\u001b[39;00m\n\u001b[1;32m----> 4\u001b[0m byePunctuation\u001b[38;5;241m=\u001b[39m\u001b[38;5;28;01mlambda\u001b[39;00m x: unidecode\u001b[38;5;241m.\u001b[39munidecode(x)\n\u001b[0;32m      5\u001b[0m datadis[[\u001b[38;5;124m'\u001b[39m\u001b[38;5;124mProvincia\u001b[39m\u001b[38;5;124m'\u001b[39m,\u001b[38;5;124m'\u001b[39m\u001b[38;5;124mPais\u001b[39m\u001b[38;5;124m'\u001b[39m]]\u001b[38;5;241m=\u001b[39mdatadis[[\u001b[38;5;124m'\u001b[39m\u001b[38;5;124mProvincia\u001b[39m\u001b[38;5;124m'\u001b[39m,\u001b[38;5;124m'\u001b[39m\u001b[38;5;124mPais\u001b[39m\u001b[38;5;124m'\u001b[39m]]\u001b[38;5;241m.\u001b[39mapplymap(byePunctuation)  \u001b[38;5;66;03m#applymap for olderpandas para colab\u001b[39;00m\n\u001b[0;32m      6\u001b[0m states[[\u001b[38;5;124m'\u001b[39m\u001b[38;5;124mProvincia\u001b[39m\u001b[38;5;124m'\u001b[39m,\u001b[38;5;124m'\u001b[39m\u001b[38;5;124mPais\u001b[39m\u001b[38;5;124m'\u001b[39m]]\u001b[38;5;241m=\u001b[39mstates[[\u001b[38;5;124m'\u001b[39m\u001b[38;5;124mProvincia\u001b[39m\u001b[38;5;124m'\u001b[39m,\u001b[38;5;124m'\u001b[39m\u001b[38;5;124mPais\u001b[39m\u001b[38;5;124m'\u001b[39m]]\u001b[38;5;241m.\u001b[39mapplymap(byePunctuation)\n",
      "File \u001b[1;32m~\\AppData\\Roaming\\Python\\Python311\\site-packages\\unidecode\\__init__.py:60\u001b[0m, in \u001b[0;36munidecode_expect_ascii\u001b[1;34m(string, errors, replace_str)\u001b[0m\n\u001b[0;32m     36\u001b[0m \u001b[38;5;250m\u001b[39m\u001b[38;5;124;03m\"\"\"Transliterate an Unicode object into an ASCII string\u001b[39;00m\n\u001b[0;32m     37\u001b[0m \n\u001b[0;32m     38\u001b[0m \u001b[38;5;124;03m>>> unidecode(\"\\u5317\\u4EB0\")\u001b[39;00m\n\u001b[1;32m   (...)\u001b[0m\n\u001b[0;32m     56\u001b[0m \u001b[38;5;124;03mASCII!\u001b[39;00m\n\u001b[0;32m     57\u001b[0m \u001b[38;5;124;03m\"\"\"\u001b[39;00m\n\u001b[0;32m     59\u001b[0m \u001b[38;5;28;01mtry\u001b[39;00m:\n\u001b[1;32m---> 60\u001b[0m     bytestring \u001b[38;5;241m=\u001b[39m string\u001b[38;5;241m.\u001b[39mencode(\u001b[38;5;124m'\u001b[39m\u001b[38;5;124mASCII\u001b[39m\u001b[38;5;124m'\u001b[39m)\n\u001b[0;32m     61\u001b[0m \u001b[38;5;28;01mexcept\u001b[39;00m \u001b[38;5;167;01mUnicodeEncodeError\u001b[39;00m:\n\u001b[0;32m     62\u001b[0m     \u001b[38;5;28;01mpass\u001b[39;00m\n",
      "\u001b[1;31mAttributeError\u001b[0m: 'float' object has no attribute 'encode'"
     ]
    }
   ],
   "source": [
    "import unidecode\n",
    "\n",
    "\n",
    "byePunctuation=lambda x: unidecode.unidecode(x)\n",
    "datadis[['Provincia','Pais']]=datadis[['Provincia','Pais']].applymap(byePunctuation)  #applymap for olderpandas para colab\n",
    "states[['Provincia','Pais']]=states[['Provincia','Pais']].applymap(byePunctuation) #applymap for olderpandas"
   ]
  },
  {
   "cell_type": "code",
   "execution_count": 29,
   "id": "51cdf48c",
   "metadata": {},
   "outputs": [
    {
     "data": {
      "text/plain": [
       "(24, 0)"
      ]
     },
     "execution_count": 29,
     "metadata": {},
     "output_type": "execute_result"
    }
   ],
   "source": [
    "datadis.Provincia.duplicated().sum(),states.Provincia.duplicated().sum()"
   ]
  },
  {
   "cell_type": "code",
   "execution_count": null,
   "id": "b70d753d",
   "metadata": {},
   "outputs": [],
   "source": []
  },
  {
   "cell_type": "code",
   "execution_count": null,
   "id": "1c947513",
   "metadata": {},
   "outputs": [],
   "source": []
  },
  {
   "cell_type": "code",
   "execution_count": null,
   "id": "3da59131",
   "metadata": {},
   "outputs": [],
   "source": []
  },
  {
   "cell_type": "markdown",
   "id": "f7f97b8b",
   "metadata": {},
   "source": [
    "### Exercise 6\n",
    "\n",
    "<div class=\"alert-success\">\n",
    "    \n",
    "1. Choose a numeric variable from your merged data.\n",
    "2. Decide which is the  best classification scheme for that variable.\n",
    "3. Make a map for the best scheme.\n",
    "4. Make a histogram for the best scheme.\n",
    "</div>"
   ]
  },
  {
   "cell_type": "code",
   "execution_count": null,
   "id": "74d3bf55",
   "metadata": {},
   "outputs": [],
   "source": []
  },
  {
   "cell_type": "code",
   "execution_count": null,
   "id": "27447aee",
   "metadata": {},
   "outputs": [],
   "source": []
  },
  {
   "cell_type": "code",
   "execution_count": null,
   "id": "bd9f094b",
   "metadata": {},
   "outputs": [],
   "source": []
  },
  {
   "cell_type": "code",
   "execution_count": null,
   "id": "e14f8fa0",
   "metadata": {},
   "outputs": [],
   "source": []
  },
  {
   "cell_type": "code",
   "execution_count": null,
   "id": "763a8efc",
   "metadata": {},
   "outputs": [],
   "source": []
  },
  {
   "cell_type": "code",
   "execution_count": null,
   "id": "7495b572",
   "metadata": {},
   "outputs": [],
   "source": []
  },
  {
   "cell_type": "code",
   "execution_count": null,
   "id": "248d8f12",
   "metadata": {},
   "outputs": [],
   "source": []
  },
  {
   "cell_type": "code",
   "execution_count": null,
   "id": "0c23b529",
   "metadata": {},
   "outputs": [],
   "source": []
  },
  {
   "cell_type": "markdown",
   "id": "10384446",
   "metadata": {},
   "source": [
    "### Exercise 7\n",
    "\n",
    "<div class=\"alert-success\">\n",
    "        \n",
    "Compute the neighbors of the capital of your country. Plot the results for each of the options. (calcula la distcnia rook queen y knn)\n",
    "    \n",
    "</div>"
   ]
  },
  {
   "cell_type": "code",
   "execution_count": null,
   "id": "284b3d1f",
   "metadata": {},
   "outputs": [],
   "source": []
  },
  {
   "cell_type": "code",
   "execution_count": null,
   "id": "013f7380",
   "metadata": {},
   "outputs": [],
   "source": []
  },
  {
   "cell_type": "code",
   "execution_count": null,
   "id": "5c47b328",
   "metadata": {},
   "outputs": [],
   "source": []
  },
  {
   "cell_type": "code",
   "execution_count": null,
   "id": "c540a3ea",
   "metadata": {},
   "outputs": [],
   "source": []
  },
  {
   "cell_type": "code",
   "execution_count": null,
   "id": "7fbc88fc",
   "metadata": {},
   "outputs": [],
   "source": []
  },
  {
   "cell_type": "markdown",
   "id": "9e17a19b",
   "metadata": {},
   "source": [
    "### Exercise 8\n",
    "\n",
    "<div class=\"alert-success\">\n",
    "    \n",
    "1. Compute the Moran's coefficient for **all** your numeric variables.\n",
    "    \n",
    "2. Make a scatter plot for each variable.\n",
    "    \n",
    "</div>"
   ]
  },
  {
   "cell_type": "code",
   "execution_count": null,
   "id": "c7bf5a74",
   "metadata": {},
   "outputs": [],
   "source": []
  }
 ],
 "metadata": {
  "kernelspec": {
   "display_name": "Python 3 (ipykernel)",
   "language": "python",
   "name": "python3"
  },
  "language_info": {
   "codemirror_mode": {
    "name": "ipython",
    "version": 3
   },
   "file_extension": ".py",
   "mimetype": "text/x-python",
   "name": "python",
   "nbconvert_exporter": "python",
   "pygments_lexer": "ipython3",
   "version": "3.11.4"
  }
 },
 "nbformat": 4,
 "nbformat_minor": 5
}
