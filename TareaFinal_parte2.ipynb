{
 "cells": [
  {
   "cell_type": "markdown",
   "id": "8e901600",
   "metadata": {},
   "source": [
    "### Exercise 5\n",
    "\n",
    "<div class=\"alert-success\">\n",
    "    \n",
    "1. **Get a polygons map of the lowest administrative unit possible. : distrito**\n",
    "    \n",
    "2. Get a **table of variables for those units**. At least 3 numerical variables. densidad poblacion, indice de contaminacion  indice de probreza, etc**\n",
    "    poblacion y superficie no considerar para las 3 varibles cuanti\n",
    "\n",
    "3. **Preprocess both tables and get them ready for merging.**\n",
    "\n",
    "4. **Do the merging, making the changes needed so that you keep the most columns.**\n",
    "    el ejercicio ess juntar la data con la tabla de datos, no hay ningun calculo\n",
    "    \n",
    "    \n",
    "</div>"
   ]
  },
  {
   "cell_type": "code",
   "execution_count": null,
   "id": "b15d5c3a",
   "metadata": {},
   "outputs": [],
   "source": [
    "# data table\n",
    "import pandas as pd\n",
    "\n",
    "peruData=os.path.join('miningGDF',\"data\",\"dataPeru_indicadores.xlsx\")\n",
    "datadis=pd.read_excel(peruData,\n",
    "                     dtype={'Ubigeo': object})\n",
    "datadis.info()\n",
    "#hasta ahora solo hemos trabajado con su geometria no con su data\n",
    "#tengo q hacer un merge: o sea meter la data dentro del poligono"
   ]
  }
 ],
 "metadata": {
  "kernelspec": {
   "display_name": "Python 3 (ipykernel)",
   "language": "python",
   "name": "python3"
  },
  "language_info": {
   "codemirror_mode": {
    "name": "ipython",
    "version": 3
   },
   "file_extension": ".py",
   "mimetype": "text/x-python",
   "name": "python",
   "nbconvert_exporter": "python",
   "pygments_lexer": "ipython3",
   "version": "3.11.4"
  }
 },
 "nbformat": 4,
 "nbformat_minor": 5
}
